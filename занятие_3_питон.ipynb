{
 "cells": [
  {
   "cell_type": "markdown",
   "id": "9cf7bb9f",
   "metadata": {},
   "source": [
    "# Методы и полезные функции"
   ]
  },
  {
   "cell_type": "markdown",
   "id": "fe292a63",
   "metadata": {},
   "source": [
    "С помощью методов можно проверять определенные вещи в строке или в списке или изменять строку/список"
   ]
  },
  {
   "cell_type": "markdown",
   "id": "3c893dfc",
   "metadata": {},
   "source": [
    "## методы списков\n",
    "o   .append() - добавить в КОНЕЦ списка\n",
    "\n",
    "o   .count() - посчитать количество тех или иных элементов\n",
    "\n",
    "o   .remove() - удалить\n",
    "\n",
    ".index()\n",
    "\n",
    "**функции**\n",
    "\n",
    "o   sum() - сумма\n",
    "\n",
    "o   max() - максимум \n",
    "\n",
    "o   min() - минимум\n"
   ]
  },
  {
   "cell_type": "code",
   "execution_count": 1,
   "id": "f77dbfe2",
   "metadata": {},
   "outputs": [
    {
     "data": {
      "text/plain": [
       "1"
      ]
     },
     "execution_count": 1,
     "metadata": {},
     "output_type": "execute_result"
    }
   ],
   "source": [
    "a = [1,2,3,4,4]\n",
    "a.append(5)\n",
    "a.remove(4)\n",
    "a.count(4)"
   ]
  },
  {
   "cell_type": "code",
   "execution_count": 1,
   "id": "88f285bf",
   "metadata": {},
   "outputs": [
    {
     "data": {
      "text/plain": [
       "0"
      ]
     },
     "execution_count": 1,
     "metadata": {},
     "output_type": "execute_result"
    }
   ],
   "source": [
    "a = ['1', '2', '1']\n",
    "a.index('1')"
   ]
  },
  {
   "cell_type": "markdown",
   "id": "10c3562b",
   "metadata": {},
   "source": [
    "## методы строк\n",
    "\n",
    "o .isdigit() - состоит ТОЛЬКО из чисел\n",
    "\n",
    "o .isalpha(), .isalnum()  - состоит ТОЛЬКО из букв или из букв и чисел (без других символов!)\n",
    "\n",
    "o .islower() .isupper() - только из ПРОПИСНЫХ или из ЗАГЛАВНЫХ\n",
    "\n",
    "o .count() - количество определенных символов\n",
    "\n",
    "o .replace(то что мы заменяем,на что мы заменяем) - заменить один символ на других \n",
    "\n",
    "o .endswith() - заканчивается на \n",
    "\n",
    "o .startswith() - начинается на \n",
    "\n",
    "o .strip() - избавиться от пробелов или других знаков слева и справа: lstrip()- только слева, rstrip() - только справа\n",
    "\n",
    "o .lower() - сделать маленькими буквами \n",
    "\n",
    "o .upper() - сделать заглавными\n",
    "\n",
    ".find() - индекс определенного символа в строке\n"
   ]
  },
  {
   "cell_type": "code",
   "execution_count": null,
   "id": "a2ba95b3",
   "metadata": {},
   "outputs": [],
   "source": []
  },
  {
   "cell_type": "code",
   "execution_count": 4,
   "id": "53fdccba",
   "metadata": {},
   "outputs": [
    {
     "data": {
      "text/plain": [
       "'МАМА'"
      ]
     },
     "execution_count": 4,
     "metadata": {},
     "output_type": "execute_result"
    }
   ],
   "source": [
    "a = 'мама'\n",
    "a = a.upper()\n",
    "a"
   ]
  },
  {
   "cell_type": "code",
   "execution_count": 9,
   "id": "3aa2d75b",
   "metadata": {},
   "outputs": [
    {
     "data": {
      "text/plain": [
       "0"
      ]
     },
     "execution_count": 9,
     "metadata": {},
     "output_type": "execute_result"
    }
   ],
   "source": [
    "a = 'мама'\n",
    "a.find('м')"
   ]
  },
  {
   "cell_type": "code",
   "execution_count": 10,
   "id": "feb2b6f0",
   "metadata": {},
   "outputs": [
    {
     "data": {
      "text/plain": [
       "'папа'"
      ]
     },
     "execution_count": 10,
     "metadata": {},
     "output_type": "execute_result"
    }
   ],
   "source": [
    "a = a.replace('м', 'п')\n",
    "a"
   ]
  },
  {
   "cell_type": "code",
   "execution_count": 2,
   "id": "a6094b92",
   "metadata": {},
   "outputs": [
    {
     "data": {
      "text/plain": [
       "'ялюблютебя'"
      ]
     },
     "execution_count": 2,
     "metadata": {},
     "output_type": "execute_result"
    }
   ],
   "source": [
    "a = 'я люблю тебя'\n",
    "a = a.replace(' ', '') # заменяем пробел в строке на пустоту (просто кавычки) и строка пишется слитно\n",
    "a"
   ]
  },
  {
   "cell_type": "code",
   "execution_count": 8,
   "id": "377c8c23",
   "metadata": {},
   "outputs": [
    {
     "data": {
      "text/plain": [
       "False"
      ]
     },
     "execution_count": 8,
     "metadata": {},
     "output_type": "execute_result"
    }
   ],
   "source": [
    "a = '12b'\n",
    "a.isalnum()"
   ]
  },
  {
   "cell_type": "code",
   "execution_count": 34,
   "id": "77d38a17",
   "metadata": {},
   "outputs": [
    {
     "data": {
      "text/plain": [
       "2"
      ]
     },
     "execution_count": 34,
     "metadata": {},
     "output_type": "execute_result"
    }
   ],
   "source": [
    "# со списками\n",
    "spisok = ['a','a','b']\n",
    "spisok.count('a')"
   ]
  },
  {
   "cell_type": "code",
   "execution_count": 35,
   "id": "24bca2a8",
   "metadata": {},
   "outputs": [],
   "source": [
    "a.append('v')"
   ]
  },
  {
   "cell_type": "code",
   "execution_count": 8,
   "id": "d859a6e5",
   "metadata": {},
   "outputs": [
    {
     "name": "stdout",
     "output_type": "stream",
     "text": [
      "ok\n"
     ]
    }
   ],
   "source": [
    "if spisok.count('a') ==  2:\n",
    "    print('ok')"
   ]
  },
  {
   "cell_type": "code",
   "execution_count": 41,
   "id": "59ed582f",
   "metadata": {},
   "outputs": [
    {
     "data": {
      "text/plain": [
       "2"
      ]
     },
     "execution_count": 41,
     "metadata": {},
     "output_type": "execute_result"
    }
   ],
   "source": [
    "family = ['папа', 'мама', 'сестра', 'сестра']\n",
    "family.count('сестра')"
   ]
  },
  {
   "cell_type": "code",
   "execution_count": 6,
   "id": "f14a55a1",
   "metadata": {},
   "outputs": [
    {
     "data": {
      "text/plain": [
       "'123'"
      ]
     },
     "execution_count": 6,
     "metadata": {},
     "output_type": "execute_result"
    }
   ],
   "source": [
    "# со строками \n",
    "a = ' 123 '\n",
    "a = a.strip()\n",
    "a"
   ]
  },
  {
   "cell_type": "code",
   "execution_count": 1,
   "id": "9030dbf4",
   "metadata": {},
   "outputs": [
    {
     "data": {
      "text/plain": [
       "'123'"
      ]
     },
     "execution_count": 1,
     "metadata": {},
     "output_type": "execute_result"
    }
   ],
   "source": [
    "# со строками \n",
    "a = '!123!'\n",
    "a = a.strip('!')\n",
    "a"
   ]
  },
  {
   "cell_type": "code",
   "execution_count": 4,
   "id": "672e3a96",
   "metadata": {},
   "outputs": [
    {
     "data": {
      "text/plain": [
       "True"
      ]
     },
     "execution_count": 4,
     "metadata": {},
     "output_type": "execute_result"
    }
   ],
   "source": [
    "a.isdigit()"
   ]
  },
  {
   "cell_type": "code",
   "execution_count": 4,
   "id": "7bd6b927",
   "metadata": {},
   "outputs": [
    {
     "name": "stdout",
     "output_type": "stream",
     "text": [
      "ok\n"
     ]
    }
   ],
   "source": [
    "# пример использования метода в if\n",
    "if a.isalnum():\n",
    "    print('ok')"
   ]
  },
  {
   "cell_type": "code",
   "execution_count": 20,
   "id": "1191289e",
   "metadata": {},
   "outputs": [
    {
     "name": "stdout",
     "output_type": "stream",
     "text": [
      "ok\n"
     ]
    }
   ],
   "source": [
    "# пример использования метода в if\n",
    "if a.isalnum() == False:\n",
    "    print('ok')"
   ]
  },
  {
   "cell_type": "code",
   "execution_count": 21,
   "id": "dbb65921",
   "metadata": {},
   "outputs": [],
   "source": [
    "if a.endswith('Sjnjkm'):\n",
    "    print(ok)"
   ]
  },
  {
   "cell_type": "code",
   "execution_count": 7,
   "id": "b36b5549",
   "metadata": {},
   "outputs": [
    {
     "data": {
      "text/plain": [
       "4"
      ]
     },
     "execution_count": 7,
     "metadata": {},
     "output_type": "execute_result"
    }
   ],
   "source": [
    "# важный момент!!\n",
    "a = [1,2,3,4]\n",
    "max(a)"
   ]
  },
  {
   "cell_type": "code",
   "execution_count": 6,
   "id": "55809249",
   "metadata": {},
   "outputs": [
    {
     "data": {
      "text/plain": [
       "'4'"
      ]
     },
     "execution_count": 6,
     "metadata": {},
     "output_type": "execute_result"
    }
   ],
   "source": [
    "a = ['123','1','3','4']\n",
    "max(a)"
   ]
  },
  {
   "cell_type": "code",
   "execution_count": 2,
   "id": "2173d9cf",
   "metadata": {},
   "outputs": [
    {
     "data": {
      "text/plain": [
       "['a']"
      ]
     },
     "execution_count": 2,
     "metadata": {},
     "output_type": "execute_result"
    }
   ],
   "source": [
    "a = ['мама']\n",
    "a[0] = 'a'\n",
    "a"
   ]
  },
  {
   "cell_type": "markdown",
   "id": "7b51accc",
   "metadata": {},
   "source": [
    "# MAP - как замена for "
   ]
  },
  {
   "cell_type": "markdown",
   "id": "161c064e",
   "metadata": {},
   "source": [
    " \n",
    "Крутая штука, с помощью которой можно использовать к одним данным действия других данных. При этом важно в некоторых случаях приводить все это дело к list.\n",
    " \n",
    "List(map(int, input().split())\n",
    " \n",
    " map(int,s)\n"
   ]
  },
  {
   "cell_type": "code",
   "execution_count": 20,
   "id": "f37a12a8",
   "metadata": {},
   "outputs": [
    {
     "ename": "TypeError",
     "evalue": "int() argument must be a string, a bytes-like object or a number, not 'list'",
     "output_type": "error",
     "traceback": [
      "\u001b[0;31m---------------------------------------------------------------------------\u001b[0m",
      "\u001b[0;31mTypeError\u001b[0m                                 Traceback (most recent call last)",
      "\u001b[0;32m/var/folders/sk/h3hrbwnj61j1z0q7y67jzd5w0000gn/T/ipykernel_13602/590405819.py\u001b[0m in \u001b[0;36m<module>\u001b[0;34m\u001b[0m\n\u001b[1;32m      1\u001b[0m \u001b[0ma\u001b[0m \u001b[0;34m=\u001b[0m \u001b[0;34m[\u001b[0m\u001b[0;34m'123'\u001b[0m\u001b[0;34m,\u001b[0m\u001b[0;34m'1'\u001b[0m\u001b[0;34m,\u001b[0m\u001b[0;34m'3'\u001b[0m\u001b[0;34m,\u001b[0m\u001b[0;34m'4'\u001b[0m\u001b[0;34m]\u001b[0m\u001b[0;34m\u001b[0m\u001b[0;34m\u001b[0m\u001b[0m\n\u001b[0;32m----> 2\u001b[0;31m \u001b[0mint\u001b[0m\u001b[0;34m(\u001b[0m\u001b[0ma\u001b[0m\u001b[0;34m)\u001b[0m\u001b[0;34m\u001b[0m\u001b[0;34m\u001b[0m\u001b[0m\n\u001b[0m",
      "\u001b[0;31mTypeError\u001b[0m: int() argument must be a string, a bytes-like object or a number, not 'list'"
     ]
    }
   ],
   "source": [
    "a = ['123','1','3','4']\n",
    "int(a)\n"
   ]
  },
  {
   "cell_type": "code",
   "execution_count": 8,
   "id": "7299c45f",
   "metadata": {},
   "outputs": [
    {
     "data": {
      "text/plain": [
       "<map at 0x7f96c196ea90>"
      ]
     },
     "execution_count": 8,
     "metadata": {},
     "output_type": "execute_result"
    }
   ],
   "source": [
    "# специальный map-тип данных\n",
    "map(int,a)"
   ]
  },
  {
   "cell_type": "code",
   "execution_count": 29,
   "id": "ac6c4d08",
   "metadata": {},
   "outputs": [
    {
     "data": {
      "text/plain": [
       "[1, 2, 3]"
      ]
     },
     "execution_count": 29,
     "metadata": {},
     "output_type": "execute_result"
    }
   ],
   "source": [
    "# вводная задача. \n",
    "a = ['1','2','3']\n",
    "a = list(map(int,a))\n",
    "a"
   ]
  },
  {
   "cell_type": "code",
   "execution_count": 30,
   "id": "a35b8f90",
   "metadata": {},
   "outputs": [
    {
     "data": {
      "text/plain": [
       "['1', '2', '3']"
      ]
     },
     "execution_count": 30,
     "metadata": {},
     "output_type": "execute_result"
    }
   ],
   "source": [
    "a = list(map(str,a))\n",
    "a"
   ]
  },
  {
   "cell_type": "code",
   "execution_count": null,
   "id": "1202687a",
   "metadata": {},
   "outputs": [],
   "source": [
    "a = ['1', '2']"
   ]
  },
  {
   "cell_type": "code",
   "execution_count": 1,
   "id": "bbdfd574",
   "metadata": {},
   "outputs": [
    {
     "name": "stdout",
     "output_type": "stream",
     "text": [
      "1 2\n",
      "[1, 2]\n"
     ]
    }
   ],
   "source": [
    "# вводная задача 2, если вводим\n",
    "a = list(map(int, input().split()))\n",
    "print(a)"
   ]
  },
  {
   "cell_type": "code",
   "execution_count": 10,
   "id": "15d37a15",
   "metadata": {},
   "outputs": [
    {
     "data": {
      "text/plain": [
       "[1, 2]"
      ]
     },
     "execution_count": 10,
     "metadata": {},
     "output_type": "execute_result"
    }
   ],
   "source": [
    "name = input().split()\n",
    "name = list(map(int,name))"
   ]
  },
  {
   "cell_type": "markdown",
   "id": "625a3760",
   "metadata": {},
   "source": [
    "# Сортировка"
   ]
  },
  {
   "cell_type": "markdown",
   "id": "22e8a72b",
   "metadata": {},
   "source": [
    "Можно пользоваться сортировкой. Она есть в списке, кортеже, множестве, словаре. Когда мы хотим вывести элементы по алфавиту или по возрастанию/убыванию\n",
    "\n",
    "sorted(<название переменной>) - по алфавиту, по возрастанию \n",
    "\n",
    "sorted(<название переменной>, reverse=True) - против алфавита, по убыванию \n",
    "\n",
    "print(*sorted(a))\n",
    "\n",
    "print(sorted(a, reverse = True))\n",
    "\n",
    "a=sorted(a)\n",
    "\n",
    "существует reverse=False (по возрастанию или по алфавиту), но мы этого не пишем, так как sorted делает это автоматически. если написать reverse=False ошибки не будет.  "
   ]
  },
  {
   "cell_type": "code",
   "execution_count": 2,
   "id": "3cd2c4c4",
   "metadata": {},
   "outputs": [
    {
     "data": {
      "text/plain": [
       "['мама', 'папа']"
      ]
     },
     "execution_count": 2,
     "metadata": {},
     "output_type": "execute_result"
    }
   ],
   "source": [
    "a = ('мама', 'папа')\n",
    "sorted(a)"
   ]
  },
  {
   "cell_type": "code",
   "execution_count": 1,
   "id": "44c2a51d",
   "metadata": {},
   "outputs": [
    {
     "data": {
      "text/plain": [
       "['а', 'а', 'м', 'м']"
      ]
     },
     "execution_count": 1,
     "metadata": {},
     "output_type": "execute_result"
    }
   ],
   "source": [
    "a = 'мама'\n",
    "sorted(a)"
   ]
  },
  {
   "cell_type": "markdown",
   "id": "cf76695c",
   "metadata": {},
   "source": [
    "# Задачи"
   ]
  },
  {
   "cell_type": "markdown",
   "id": "5e2e6c95",
   "metadata": {},
   "source": [
    "Задача 1: В определенном списке есть строки. Вывести только те элементы, которые начинаются на \"б\""
   ]
  },
  {
   "cell_type": "code",
   "execution_count": 2,
   "id": "48da6890",
   "metadata": {},
   "outputs": [
    {
     "name": "stdout",
     "output_type": "stream",
     "text": [
      "баран\n",
      "бывший\n"
     ]
    }
   ],
   "source": [
    "a = ['козёл', 'баран', 'бывший', 'амёба']\n",
    "for i in a:\n",
    "    if i.startswith('б'):\n",
    "        print(i)"
   ]
  },
  {
   "cell_type": "markdown",
   "id": "69970b8f",
   "metadata": {},
   "source": [
    "Задача 2. Реализуйте следующую программу:\n",
    "\n",
    "Считывается список cities с названиями городов и заглавная буква letter (этот код уже написан для вас). Из списка в новый список будут добавлены только те названия городов, которые начинаются на введенную букву. В итоге нужно вывести список с нужными городами"
   ]
  },
  {
   "cell_type": "code",
   "execution_count": null,
   "id": "103c3578",
   "metadata": {},
   "outputs": [],
   "source": [
    "cities = input().split()\n",
    "letter = input()\n",
    "new = list() #[]\n",
    "for i in cities:\n",
    "    if i.startswith(letter):\n",
    "        new.append(i)\n",
    "print(new)"
   ]
  },
  {
   "cell_type": "markdown",
   "id": "f5f83097",
   "metadata": {},
   "source": [
    "Задача 3: вывести только те слова из списка, в которых не менее 2 буквы а. "
   ]
  },
  {
   "cell_type": "code",
   "execution_count": 15,
   "id": "952c67bb",
   "metadata": {},
   "outputs": [
    {
     "name": "stdout",
     "output_type": "stream",
     "text": [
      "ананас\n",
      "анаконда\n",
      "мама\n",
      "мандарин\n"
     ]
    }
   ],
   "source": [
    "words = ['ананас', 'блокнот', 'анаконда', 'мама', 'апельсин', 'мандарин']\n",
    "for i in words:\n",
    "    if i.count('а') >= 2:\n",
    "        print(i)"
   ]
  },
  {
   "cell_type": "markdown",
   "id": "7d749646",
   "metadata": {},
   "source": [
    "**Задача 4**: В переменную animals считывается список названий животных (строки). \n",
    "В переменную new_animal считывается название животного. \n",
    "Проверьте, есть ли в animals животное new_animal: если такого животного нет, то добавьте его в конец списка."
   ]
  },
  {
   "cell_type": "code",
   "execution_count": null,
   "id": "9e071fcc",
   "metadata": {},
   "outputs": [],
   "source": [
    "animals = input().split()\n",
    "new_animal = input()\n",
    "if new_animal not in animals:\n",
    "    animals.append(new_animal)"
   ]
  },
  {
   "cell_type": "markdown",
   "id": "a57c921e",
   "metadata": {},
   "source": [
    "Вводятся слова, пока не введется ноль. Добавьте в новый список только те слова, которые являются палиндромами (читаются слева направо одинаково)"
   ]
  },
  {
   "cell_type": "code",
   "execution_count": null,
   "id": "2f7ccd09",
   "metadata": {},
   "outputs": [],
   "source": [
    "a = input()\n",
    "new = []\n",
    "while a != '0':\n",
    "    if a.lower() == a[::-1].lower():\n",
    "        new.append(a)\n",
    "    a = input()\n",
    "print(new)"
   ]
  },
  {
   "cell_type": "code",
   "execution_count": null,
   "id": "6977e3f8",
   "metadata": {},
   "outputs": [],
   "source": [
    "анна - анна"
   ]
  },
  {
   "cell_type": "code",
   "execution_count": null,
   "id": "a7f6e936",
   "metadata": {},
   "outputs": [],
   "source": [
    "кот - ток"
   ]
  },
  {
   "cell_type": "markdown",
   "id": "eb74a6dc",
   "metadata": {},
   "source": [
    "Дан список names. Затем вводится строка name_to_find, если она есть в списке, нужно вывести количество - сколько раз эта строка встречалась в списке. В ином случае - вывести строку \"такого имени нет\""
   ]
  },
  {
   "cell_type": "code",
   "execution_count": null,
   "id": "3659cd96",
   "metadata": {},
   "outputs": [],
   "source": [
    "#Задание 11 с экзамена\n",
    "names = input().split()\n",
    "name_to_find = input()\n",
    "if name_to_find in names:\n",
    "    print(names.count(name_to_find))\n",
    "else:\n",
    "    print('такого имени нет')"
   ]
  }
 ],
 "metadata": {
  "kernelspec": {
   "display_name": "Python 3 (ipykernel)",
   "language": "python",
   "name": "python3"
  },
  "language_info": {
   "codemirror_mode": {
    "name": "ipython",
    "version": 3
   },
   "file_extension": ".py",
   "mimetype": "text/x-python",
   "name": "python",
   "nbconvert_exporter": "python",
   "pygments_lexer": "ipython3",
   "version": "3.9.7"
  }
 },
 "nbformat": 4,
 "nbformat_minor": 5
}
