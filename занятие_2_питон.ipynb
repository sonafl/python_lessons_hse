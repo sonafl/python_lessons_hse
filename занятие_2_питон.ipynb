{
 "cells": [
  {
   "cell_type": "markdown",
   "id": "caf25088",
   "metadata": {},
   "source": [
    "# Списки и кортежи"
   ]
  },
  {
   "cell_type": "markdown",
   "id": "5f90ef67",
   "metadata": {},
   "source": [
    "### Списки\n",
    "\n",
    "Можно: заменять, удалять, добавлять элементы, обращаться к индексу, делать срез\n",
    "\n",
    "list\n",
    "\n",
    "**Как сделать пустой список?**\n",
    "\n",
    "b=list()\n",
    "\n",
    "b=[]\n",
    "\n",
    "**Индексация и срезы**\n",
    "\n",
    "spisok=['a','b','c','d']\n",
    "\n",
    "\n",
    "spisok_1=['b','a','c','d']\n",
    "\n",
    "\n",
    "spisok[1] = b\n",
    "\n",
    "spisok[1:3]=b,c\n",
    "\n",
    "**Как ввести список?**\n",
    "\n",
    "a=input().split()\n",
    "\n",
    "'мама папа сестра' - ['мама', 'папа', 'сестра']\n",
    "\n",
    "a=input().split(', ')\n",
    "\n",
    "'мама, папа, сестра' - ['мама', 'папа', 'сестра']\n",
    "\n",
    "'мама,папа,сестра' - ['мама,папа,сестра']\n",
    "\n",
    "'мама папа сестра' = ['мама папа сестра']\n",
    "\n",
    "**Как выводить список?**\n",
    "\n",
    "print(spisok) \n",
    "\n",
    "['a','b','c','d']\n",
    "\n",
    "print(*spisok)\n",
    "\n",
    "a b c d \n",
    "\n",
    "print(', '.join(spisok))\n",
    "\n",
    "print(*spisok, sep = ', ')\n",
    "\n",
    "a, b, c, d\n",
    "\n",
    "print(*spisok, sep = '\\n')\n",
    "\n",
    "a\n",
    "\n",
    "b \n",
    "\n",
    "c \n",
    "\n",
    "d\n",
    "\n",
    "\n",
    "### Кортежи\n",
    "Можно обращаться к индексу, делать срезы\n",
    "НИЧЕГО НЕЛЬЗЯ МЕНЯТЬ!\n",
    "\n",
    "b=tuple()\n",
    "\n",
    "b=()\n",
    "\n",
    "a = ('a', 'b', 'c')\n",
    "\n",
    "**Как ввести кортеж**:\n",
    "a=tuple(input().split())\n",
    "\n",
    "Вывод кортежа как у списков\n",
    "a = ('a', 'b', 'c')"
   ]
  },
  {
   "cell_type": "markdown",
   "id": "100f9aac",
   "metadata": {},
   "source": [
    "**Из крутых штук для кортежа и списка**\n",
    "\n",
    "1. использовать len()\n",
    "2. использовать not(in)"
   ]
  },
  {
   "cell_type": "code",
   "execution_count": 1,
   "id": "6c4aacbf",
   "metadata": {},
   "outputs": [
    {
     "name": "stdout",
     "output_type": "stream",
     "text": [
      "('хлеб', 'шоколад', 'мандарины')\n"
     ]
    }
   ],
   "source": [
    "# Вводная задача_1\n",
    "b = ('хлеб', 'шоколад', 'апельсины')\n",
    "b = list(b)\n",
    "b[2] = 'мандарины'\n",
    "b = tuple(b)\n",
    "print(b)"
   ]
  },
  {
   "cell_type": "markdown",
   "id": "7ae907bf",
   "metadata": {},
   "source": [
    "### Двойная, тройная, а то и четверная индексация\n",
    "\n",
    "a=[(‘хлеб’, ‘апельсин’), ‘молоко’]\n",
    "\n",
    "a[0][1][1]"
   ]
  },
  {
   "cell_type": "code",
   "execution_count": 3,
   "id": "3f833a3d",
   "metadata": {},
   "outputs": [
    {
     "data": {
      "text/plain": [
       "'н'"
      ]
     },
     "execution_count": 3,
     "metadata": {},
     "output_type": "execute_result"
    }
   ],
   "source": [
    "a=[('хлеб', 'апельсин'), 'молоко']\n",
    "a[0][1][-1]"
   ]
  },
  {
   "cell_type": "code",
   "execution_count": 5,
   "id": "36caa0ee",
   "metadata": {},
   "outputs": [
    {
     "data": {
      "text/plain": [
       "'м'"
      ]
     },
     "execution_count": 5,
     "metadata": {},
     "output_type": "execute_result"
    }
   ],
   "source": [
    "a[1][0]"
   ]
  },
  {
   "cell_type": "markdown",
   "id": "20cf107a",
   "metadata": {},
   "source": [
    "### Цикл for\n",
    "Он перебирает элементы списка (и множества, и ключей словаря, и кортежа, и строки)\n",
    "\n",
    "for i in list:\n",
    "\n",
    "for i in range(len(list)):\n",
    "\n",
    "for i in range()\n",
    "\n",
    "i - условно называем так элемент (может быть любая переменная)\n",
    "\n",
    "Что писать после i?\n",
    "\n",
    "ЛИБО НАЗВАНИЕ СПИСКА/КОРТЕЖА И ТД\n",
    "\n",
    "Либо можно перебирать числа в числовом промежутке, например если просто нужны определенные числа или если мы хотим обратиться к индексам элементов (тогда используем range)\n",
    "\n",
    "### Что такое range?\n",
    "range(3) - [:3]\n",
    "\n",
    "range(1, 6)  - [1:6] – с первого начинаем, на втором заканчиваем (не включительно)\n",
    "\n",
    "( , , ) – после второй запятой идет шаг"
   ]
  },
  {
   "cell_type": "code",
   "execution_count": 3,
   "id": "93a16bfe",
   "metadata": {},
   "outputs": [
    {
     "name": "stdout",
     "output_type": "stream",
     "text": [
      "1\n",
      "2\n",
      "3\n",
      "4\n",
      "5\n",
      "6\n"
     ]
    }
   ],
   "source": [
    "for i in range(1,7):\n",
    "    print(i)"
   ]
  },
  {
   "cell_type": "code",
   "execution_count": 5,
   "id": "3223d2a3",
   "metadata": {},
   "outputs": [
    {
     "name": "stdout",
     "output_type": "stream",
     "text": [
      "a\n",
      "b\n",
      "c\n",
      "d\n",
      "a d\n",
      "0\n",
      "b e\n",
      "1\n",
      "c f\n",
      "2\n",
      "d g\n",
      "3\n"
     ]
    }
   ],
   "source": [
    "spisok=['a','b','c','d']\n",
    "spisok_1 = ['d', 'e', 'f', 'g']\n",
    "for i  in spisok:\n",
    "    print(i)\n",
    "    \n",
    "for i in range(len(spisok)):# len(spisok) = 4, range(4)\n",
    "    print(spisok[i], spisok_1[i]) # обращение к элементам\n",
    "    print(i) # обращение к индексам"
   ]
  },
  {
   "cell_type": "code",
   "execution_count": 11,
   "id": "90387523",
   "metadata": {},
   "outputs": [
    {
     "name": "stdout",
     "output_type": "stream",
     "text": [
      "1\n",
      "2\n",
      "3\n",
      "4\n",
      "5\n"
     ]
    }
   ],
   "source": [
    "# Вводная задача_2\n",
    "a=[1,2,3,4,5]\n",
    "#код здесь \n",
    "for i in a:\n",
    "    print(i)"
   ]
  },
  {
   "cell_type": "code",
   "execution_count": null,
   "id": "4da69648",
   "metadata": {},
   "outputs": [],
   "source": [
    "# Вводная задача_3\n",
    "b = ['v', 'b', 'c']\n",
    "for i in range(len(b)):\n",
    "    print(i)"
   ]
  },
  {
   "cell_type": "markdown",
   "id": "c86609f8",
   "metadata": {},
   "source": [
    "**Задача 1**\n",
    "\n",
    "Главное правило для email-адресов — наличие символа '@'. На вход подается последовательность с несколькими email-адресами через пробел. Выведите только корректные адреса, каждый на новой строчке. "
   ]
  },
  {
   "cell_type": "code",
   "execution_count": null,
   "id": "051084ad",
   "metadata": {},
   "outputs": [],
   "source": [
    "# tv@m.ru mail.ru masha@masha.ru mishayandex"
   ]
  },
  {
   "cell_type": "code",
   "execution_count": 1,
   "id": "e608c24e",
   "metadata": {},
   "outputs": [
    {
     "name": "stdout",
     "output_type": "stream",
     "text": [
      "tv@m.ru mail.ru masha@masha.ru mishayandex\n",
      "tv@m.ru\n",
      "masha@masha.ru\n"
     ]
    }
   ],
   "source": [
    "emails = input().split()\n",
    "for i in emails:\n",
    "    if \"@\" in i:\n",
    "        print(i)"
   ]
  },
  {
   "cell_type": "markdown",
   "id": "f63b78c3",
   "metadata": {},
   "source": [
    "**Задача 2**\n",
    "\n",
    "Считываются **два списка** **одинаковой длины** — names и fruits. В первом списке — имена, во втором — названия фруктов введенные через пробел.  Программа выводит строки вида \"X любит Y\", где X — строка из списка names под индексом i, а Y — строка из списка fruits **под индексом i**. Каждая строка вида \"X любит Y\" печатается на новой строке.\n",
    "\n",
    "Первый список: Алена Таня Дима \n",
    "\n",
    "Второй список: арбузы апельсины яблоки\n",
    "\n",
    "Результат: \n",
    "\n",
    "Алена любит арбузы \n",
    "\n",
    "Таня любит апельсины \n",
    "\n",
    "Дима любит яблоки"
   ]
  },
  {
   "cell_type": "code",
   "execution_count": 2,
   "id": "ab9d7043",
   "metadata": {},
   "outputs": [
    {
     "name": "stdout",
     "output_type": "stream",
     "text": [
      "Алена Таня Дима\n",
      "арбузы апельсины яблоки\n",
      "Алена любит арбузы\n",
      "Таня любит апельсины\n",
      "Дима любит яблоки\n"
     ]
    }
   ],
   "source": [
    "names = input().split()\n",
    "fruits = input().split()\n",
    "for i in range(len(names)): #len(fruits)\n",
    "    print(f'{names[i]} любит {fruits[i]}')"
   ]
  },
  {
   "cell_type": "markdown",
   "id": "013cc4f2",
   "metadata": {},
   "source": [
    "**Задача 3**\n",
    "\n",
    "Считывается список групп студентов (groups) и строка — две последние цифры года (year, например 21).Нужно вывести номера только тех групп, студенты которых поступили в университет в заданный год (предпредпоследний и предпоследний символы номера группы совпадают с содержимым переменной year). Каждый номер выводится на новой строке. Гарантируется, что в каждом номере группы шесть символов (например, \"БМЭ211\") Если соответствующих условию номеров в списке нет, то ничего не выводится."
   ]
  },
  {
   "cell_type": "code",
   "execution_count": 7,
   "id": "055478e3",
   "metadata": {},
   "outputs": [
    {
     "name": "stdout",
     "output_type": "stream",
     "text": [
      "БМД211, БМД213, БМД224, БМД226\n",
      "21\n",
      "БМД211\n",
      "БМД213\n"
     ]
    }
   ],
   "source": [
    "groups = input().split()\n",
    "# БМД211, БМД213, БМД224, БМД226\n",
    "year = input() # 21\n",
    "for i in groups:\n",
    "    if i[3:5] == year:\n",
    "        print(i)"
   ]
  },
  {
   "cell_type": "markdown",
   "id": "9c701ebf",
   "metadata": {},
   "source": [
    "**Задача 4**\n",
    "\n",
    "Реализуйте следующую программу:\n",
    "\n",
    "Считывается список дат контрольных в течение семестра — dates. Даты вводятся в строковом формате \"DD-MM-YYYY\" (например, \"25-06-2022\"). Этот код уже написан. Вводится строка с номером месяца, состоящая из двух символов (например, \"06\" или \"10\") Выведите даты контрольных, которые пройдут в заданном месяце. Каждая на новой строке. Если контрольных в этот месяц не запланировано, ничего не выводится."
   ]
  },
  {
   "cell_type": "code",
   "execution_count": null,
   "id": "6df8f2bb",
   "metadata": {},
   "outputs": [],
   "source": [
    "25-06-2022 25-05-2022 24-06-2022 "
   ]
  },
  {
   "cell_type": "code",
   "execution_count": null,
   "id": "b98acf59",
   "metadata": {},
   "outputs": [],
   "source": []
  },
  {
   "cell_type": "markdown",
   "id": "db34707a",
   "metadata": {},
   "source": [
    "**Задача 5**\n",
    "\n",
    "Саша всю ночь готовится к игре в города, выписывая все встречающиеся в интернете названия городов. Напишите программу, которая принимает на вход строку с названиями городов, затем одну заглавную букву, и выводит все города из строки, которые на нее начинаются. "
   ]
  },
  {
   "cell_type": "code",
   "execution_count": null,
   "id": "12e6520f",
   "metadata": {
    "scrolled": true
   },
   "outputs": [],
   "source": [
    "cities = input().split()\n",
    "letter = input()\n",
    "for i in cities:\n",
    "    if i[0] == letter:\n",
    "        print(i)"
   ]
  },
  {
   "cell_type": "markdown",
   "id": "85444eb4",
   "metadata": {},
   "source": [
    "Считываются два списка — names и languages — и строка info. Этот код уже написан.\n",
    "\n",
    "Список names содержит имена студентов (строки). Список languages cодержит названия иностранных языков (строки). Количество элементов в списках совпадает — каждый введенный язык из списка languages соответствует студенту из списка names.\n",
    "Строка info содержит название иностранного языка.\n",
    "Напишите программу, которая выведет имена только тех студентов из списка names, которые говорят на введенном языке (info). "
   ]
  },
  {
   "cell_type": "code",
   "execution_count": 3,
   "id": "f29eaac9",
   "metadata": {},
   "outputs": [
    {
     "name": "stdout",
     "output_type": "stream",
     "text": [
      "Аня Алина Марина\n",
      "Англ Рус Англ\n",
      "Англ\n",
      "Аня\n",
      "Марина\n"
     ]
    }
   ],
   "source": [
    "names = input().split() # Аня Алина Марина\n",
    "languages = input().split() # Англ Рус Англ\n",
    "info = input() # Анг\n",
    "for i in range(len(names)):\n",
    "    if languages[i] == info:\n",
    "        print(names[i])"
   ]
  },
  {
   "cell_type": "markdown",
   "id": "24a2e2d8",
   "metadata": {},
   "source": [
    "Вводится целое положительное число N1, затем с новой строки вводится целое положительное число N2. Гарантируется, что N2 больше N1. Нужно вывести квадраты всех четных чисел от N1 до N2 включительно, каждое число на новой строке."
   ]
  },
  {
   "cell_type": "code",
   "execution_count": 7,
   "id": "9e7a860c",
   "metadata": {},
   "outputs": [
    {
     "name": "stdout",
     "output_type": "stream",
     "text": [
      "8\n",
      "15\n",
      "64\n",
      "100\n",
      "144\n",
      "196\n"
     ]
    }
   ],
   "source": []
  },
  {
   "cell_type": "code",
   "execution_count": null,
   "id": "f4db6552",
   "metadata": {},
   "outputs": [],
   "source": []
  }
 ],
 "metadata": {
  "kernelspec": {
   "display_name": "Python 3 (ipykernel)",
   "language": "python",
   "name": "python3"
  },
  "language_info": {
   "codemirror_mode": {
    "name": "ipython",
    "version": 3
   },
   "file_extension": ".py",
   "mimetype": "text/x-python",
   "name": "python",
   "nbconvert_exporter": "python",
   "pygments_lexer": "ipython3",
   "version": "3.9.7"
  }
 },
 "nbformat": 4,
 "nbformat_minor": 5
}
