{
 "cells": [
  {
   "cell_type": "markdown",
   "id": "86f7e255",
   "metadata": {},
   "source": [
    "# Функции "
   ]
  },
  {
   "cell_type": "markdown",
   "id": "2f25d249",
   "metadata": {},
   "source": [
    "Функции - это повторяющаяся часть в коде программы \n",
    "\n",
    "например, input() - встроенная функция в сам питон. но вы можете встроить функцию в свой код!\n",
    "\n",
    "С чего начать?\n",
    "\n",
    "Определение функции:\n",
    "\n",
    "def <название функции>(<входные параметры>):\n",
    "\n",
    "ОТСТУПЫ     <инструкции>\n",
    "\n",
    "Предположим ситуацию, у нас есть слово и нам нужно несколько раз его повторить \n",
    "\n",
    "def povtor(stroka, chislo):\n",
    "\n",
    "         a=stroka*chislo \n",
    "         \n",
    "         return a\n",
    "\n",
    "Что такое return?\n",
    "\n",
    "Он возвращает результат работы функции, а не печатает его на экране. Когда это важно? Когда работу функции мы хотим присвоить определенной переменной. \n",
    "\n",
    "Например,\n",
    "a = int('123'). Работу функции int мы присвоили переменной a.\n",
    "\n",
    "С нашей функуией povtor будет так:\n",
    "\n",
    "a = povtor(stroka, chislo)\n",
    "\n",
    "или \n",
    "\n",
    "print(povtor(stroka, chislo))\n",
    "\n",
    "Когда мы используем в функции print. То мы можем написать просто так на отдельной строке:\n",
    "\n",
    "povtor(stroka, chislo)\n",
    "\n",
    "И мы получим результат работы на экране, так как в функции уже заложен принт. \n",
    "\n",
    "Могут быть функции, которые просто что-то печатают. \n",
    "\n",
    "Например, \n",
    "\n",
    "def say_hello():\n",
    "\n",
    "    print('Нello')\n",
    "\n",
    "say_hello()"
   ]
  },
  {
   "cell_type": "code",
   "execution_count": 8,
   "id": "5e5e09b7",
   "metadata": {},
   "outputs": [
    {
     "name": "stdout",
     "output_type": "stream",
     "text": [
      "123\n"
     ]
    }
   ],
   "source": [
    "a = int('123')\n",
    "print(a)"
   ]
  },
  {
   "cell_type": "code",
   "execution_count": 2,
   "id": "c5f826f8",
   "metadata": {},
   "outputs": [
    {
     "name": "stdout",
     "output_type": "stream",
     "text": [
      "питонпитонпитонпитонпитонпитонпитон\n"
     ]
    }
   ],
   "source": [
    "def povtor(stroka, chislo):\n",
    "    a=stroka*chislo \n",
    "    return a\n",
    "\n",
    "\n",
    "\n",
    "a = povtor('питон', 7)\n",
    "print(a)"
   ]
  },
  {
   "cell_type": "code",
   "execution_count": 16,
   "id": "22d4e9fd",
   "metadata": {},
   "outputs": [
    {
     "name": "stdout",
     "output_type": "stream",
     "text": [
      "питонпитонпитонпитонпитонпитонпитон\n"
     ]
    }
   ],
   "source": [
    "def povtor(stroka, chislo):\n",
    "    a=stroka*chislo \n",
    "    return a\n",
    "print(povtor('питон', 7))"
   ]
  },
  {
   "cell_type": "code",
   "execution_count": 5,
   "id": "da307648",
   "metadata": {},
   "outputs": [
    {
     "data": {
      "text/plain": [
       "'питонпитонпитонпитонпитонпитонпитон'"
      ]
     },
     "execution_count": 5,
     "metadata": {},
     "output_type": "execute_result"
    }
   ],
   "source": [
    "def povtor(stroka, chislo):\n",
    "    a=stroka*chislo \n",
    "    return a\n",
    "povtor('питон', 7)"
   ]
  },
  {
   "cell_type": "code",
   "execution_count": 17,
   "id": "a5125102",
   "metadata": {},
   "outputs": [
    {
     "data": {
      "text/plain": [
       "'питонпитонпитонпитонпитонпитонпитон'"
      ]
     },
     "execution_count": 17,
     "metadata": {},
     "output_type": "execute_result"
    }
   ],
   "source": [
    "povtor('питон', 7)"
   ]
  },
  {
   "cell_type": "code",
   "execution_count": 14,
   "id": "8cc75d50",
   "metadata": {},
   "outputs": [
    {
     "name": "stdout",
     "output_type": "stream",
     "text": [
      "Нello\n"
     ]
    }
   ],
   "source": [
    "def say_hello():\n",
    "    print('Нello')\n",
    "say_hello()"
   ]
  },
  {
   "cell_type": "code",
   "execution_count": 12,
   "id": "6063aa5a",
   "metadata": {},
   "outputs": [
    {
     "name": "stdout",
     "output_type": "stream",
     "text": [
      "питонпитонпитонпитонпитонпитонпитон\n"
     ]
    }
   ],
   "source": [
    "def povtor(stroka, chislo):\n",
    "    a=stroka*chislo \n",
    "    print(a) \n",
    "povtor('питон', 7)"
   ]
  },
  {
   "cell_type": "code",
   "execution_count": 11,
   "id": "aaa4c958",
   "metadata": {},
   "outputs": [
    {
     "name": "stdout",
     "output_type": "stream",
     "text": [
      "питонпитонпитонпитонпитонпитонпитон\n",
      "None\n"
     ]
    }
   ],
   "source": [
    "def povtor(stroka, chislo):\n",
    "    a=stroka*chislo \n",
    "    print(a)\n",
    "    \n",
    "text = 'питон'    \n",
    "integer = 7\n",
    "\n",
    "print(povtor(text, integer))"
   ]
  },
  {
   "cell_type": "code",
   "execution_count": null,
   "id": "5b7a93ad",
   "metadata": {},
   "outputs": [],
   "source": [
    "print(povtor('питон', 7))  print(print(питонпитонпитонпитонпитонпитонпитон)) - print()"
   ]
  },
  {
   "cell_type": "code",
   "execution_count": 9,
   "id": "3c7f90ca",
   "metadata": {
    "scrolled": true
   },
   "outputs": [
    {
     "name": "stdout",
     "output_type": "stream",
     "text": [
      "питонпитонпитонпитонпитонпитонпитон\n"
     ]
    }
   ],
   "source": [
    "def povtor(stroka, chislo):\n",
    "    a=stroka*chislo \n",
    "    print(a)\n",
    "a = povtor('питон', 7)\n",
    "a"
   ]
  },
  {
   "cell_type": "code",
   "execution_count": 19,
   "id": "513a4685",
   "metadata": {},
   "outputs": [
    {
     "data": {
      "text/plain": [
       "True"
      ]
     },
     "execution_count": 19,
     "metadata": {},
     "output_type": "execute_result"
    }
   ],
   "source": [
    "w = 'корова'\n",
    "l = 'к'\n",
    "check_first_letter(w, l)"
   ]
  },
  {
   "cell_type": "markdown",
   "id": "7fa5ec85",
   "metadata": {},
   "source": [
    "Задание 1. Напишите функцию check_first_letter, которая принимает два аргумента word и letter и возвращает логическую переменную True, если слово начинается с этой буквы и False в другом случае."
   ]
  },
  {
   "cell_type": "code",
   "execution_count": 1,
   "id": "9ffbd87a",
   "metadata": {},
   "outputs": [],
   "source": [
    "def check_first_letter(word, letter):\n",
    "    if word[0] == letter:\n",
    "        return True\n",
    "    else:\n",
    "        return False"
   ]
  },
  {
   "cell_type": "code",
   "execution_count": 3,
   "id": "fafb4db3",
   "metadata": {},
   "outputs": [
    {
     "data": {
      "text/plain": [
       "False"
      ]
     },
     "execution_count": 3,
     "metadata": {},
     "output_type": "execute_result"
    }
   ],
   "source": [
    "check_first_letter('корова', 'к')"
   ]
  },
  {
   "cell_type": "markdown",
   "id": "aed07059",
   "metadata": {},
   "source": [
    "Задание 2. Напишите функцию converter, которая принимает два аргумента — rub (количество рублей, вещественное число) exchange_rate (курс доллара, вещественное число), и возвращает количество долларов, которое можно купить на это количество рублей по текущему курсу.\n",
    "\n",
    "Функция должна возвращать десятичную дробь, округленную до двух знаков после запятой с помощью встроенной функции round()"
   ]
  },
  {
   "cell_type": "code",
   "execution_count": null,
   "id": "c46dbf36",
   "metadata": {},
   "outputs": [],
   "source": [
    "1 доллар - 60р\n",
    "?  доллар - 400 р? "
   ]
  },
  {
   "cell_type": "code",
   "execution_count": 4,
   "id": "3ec815cd",
   "metadata": {},
   "outputs": [],
   "source": [
    "def converter(rub, exchange_rate):\n",
    "    a = rub/exchange_rate\n",
    "    return round(a, 2)"
   ]
  },
  {
   "cell_type": "markdown",
   "id": "24d5cac3",
   "metadata": {},
   "source": [
    "Задание 3. Напишите функцию check_password, которая принимает два аргумента — password (строка с паролем) и symbol (один строковый символ). Функция возвращает логическую константу True, если символ встречается в пароле не более двух раз и False в ином случае.\n",
    "\n",
    "ВАЖНО! В этой задаче вы только определяете функцию, вызывать ее и считывать значения не нужно, это произойдет автоматически при проверке."
   ]
  },
  {
   "cell_type": "code",
   "execution_count": null,
   "id": "e93991ec",
   "metadata": {},
   "outputs": [],
   "source": [
    "def check_password(password, symbol):\n",
    "    if password.count(symbol) <= 2:\n",
    "        return True\n",
    "    else:\n",
    "        return False"
   ]
  },
  {
   "cell_type": "markdown",
   "id": "fabb5e04",
   "metadata": {},
   "source": [
    "Напишите функцию check_len, которая принимает на вход 2 аргумента: text( строка) и length(целое число).Нужно вывести True, если длина строки равна введенному числу, и False в обратном случае. Важно: пробел в строке не должен учитываться. \"мой дом\" - \"мойдом\""
   ]
  },
  {
   "cell_type": "code",
   "execution_count": null,
   "id": "f58b31dc",
   "metadata": {},
   "outputs": [],
   "source": []
  },
  {
   "cell_type": "markdown",
   "id": "665efcfd",
   "metadata": {},
   "source": [
    "Задание 4. По окончании сессии студент может получить урезанную стипендию, если он закрыл сессию с одной оценкой 3, но при этом у него не было пересдач (оценок 1 и 2). Студенты, у которых все оценки не меньше 4, не могут претендовать на урезанную стипендию.\n",
    "\n",
    "Напишите функцию, которая определяет, может ли студент претендовать на урезанную стипендию. \n",
    "\n",
    "ТРЕБУЕМАЯ ФУНКЦИЯ \n",
    "Функция scholarship, параметром которой является список оценок студента по окончании сессии — целых чисел от 1 до 5. \n",
    "Функция должна возвращать логическую переменную True, если студент может претендовать на урезанную стипендию и False в обратном случае"
   ]
  },
  {
   "cell_type": "code",
   "execution_count": 2,
   "id": "3f970514",
   "metadata": {},
   "outputs": [],
   "source": []
  },
  {
   "cell_type": "markdown",
   "id": "7620be09",
   "metadata": {},
   "source": [
    "**Задание 5. На повышенную стипендию могут претендовать студенты со средним баллом не ниже 8 по 10-балльной шкале.**\n",
    "\n",
    "Напишите функцию, которая определяет студентов, претендующих на повышенную стипендию. \n",
    "\n",
    "ТРЕБУЕМАЯ ФУНКЦИЯ \n",
    "Функция get_excellent, которая принимает на вход словарь. \n",
    "Его ключами являются имена студентов, а значениями — списки оценок (целых чисел от 1 до 10). Гарантируется, что в словаре есть информация как минимум об одном студенте.\n",
    "Функция должна возвращать список имен студентов, средний балл которых не ниже 8, отсортированный в алфавитном порядке.\n",
    "Если таких студентов нет — функция возвращает пустой список.\n",
    "ВАЖНО! В этой задаче вы только определяете функцию, вызывать ее и считывать значения не нужно, это произойдет автоматически при проверке."
   ]
  },
  {
   "cell_type": "code",
   "execution_count": null,
   "id": "2866cc73",
   "metadata": {},
   "outputs": [],
   "source": [
    "{\n",
    "    'Harry Potter': [7, 6, 8, 6, 6],\n",
    "    'Hermione Granger': [10, 10, 9, 10, 10, 9, 9],\n",
    "    'Ron Weasley': [6, 5, 7, 4, 5],\n",
    "    'Ginny Weasley': [9, 7, 8]\n",
    "}"
   ]
  },
  {
   "cell_type": "code",
   "execution_count": 8,
   "id": "4b792389",
   "metadata": {},
   "outputs": [
    {
     "ename": "SyntaxError",
     "evalue": "invalid syntax (2481004440.py, line 2)",
     "output_type": "error",
     "traceback": [
      "\u001b[0;36m  File \u001b[0;32m\"/var/folders/yk/y4brywlj7hggth8sp2wv0fmc0000gn/T/ipykernel_59523/2481004440.py\"\u001b[0;36m, line \u001b[0;32m2\u001b[0m\n\u001b[0;31m    for i in grades\u001b[0m\n\u001b[0m                   ^\u001b[0m\n\u001b[0;31mSyntaxError\u001b[0m\u001b[0;31m:\u001b[0m invalid syntax\n"
     ]
    }
   ],
   "source": [
    "def get_excellent(grades):\n",
    "    new = []\n",
    "    for i in grades:\n",
    "        if sum(grades[i]) / len(grades[i]) >= 8:\n",
    "            new.append(i)\n",
    "    return sorted(new)      "
   ]
  },
  {
   "cell_type": "markdown",
   "id": "ae6cb788",
   "metadata": {},
   "source": [
    "Задание 6. \n",
    "Реализуйте программу, которая добавляет новый элемент в список:\n",
    "\n",
    "Определите функцию add_course, которая принимает два аргумента:\n",
    "courses — список названий курсов (строки), который может быть пустым.\n",
    "new_course — название нового курса (строка).\n",
    "Функция возвращает список courses, в который добавлен новый курс. Если новый курс уже был в списке, то функция возвращает оригинальный список."
   ]
  },
  {
   "cell_type": "code",
   "execution_count": 11,
   "id": "698cb580",
   "metadata": {},
   "outputs": [],
   "source": [
    "def add_course(courses, new_course):\n",
    "    if new_courses not in courses:\n",
    "        courses.append(new_courses)\n",
    "    return courses"
   ]
  },
  {
   "cell_type": "markdown",
   "id": "c45ebb79",
   "metadata": {},
   "source": [
    "**Функция checker, которая принимает на вход список words и должна вернуть новый список со словами из words которые написаны большими буквами**"
   ]
  },
  {
   "cell_type": "code",
   "execution_count": null,
   "id": "24856c39",
   "metadata": {},
   "outputs": [],
   "source": [
    "def checker(words):\n",
    "    new = []\n",
    "    for i in words:\n",
    "        if i.isupper():\n",
    "            new.append(i)\n",
    "    return new"
   ]
  },
  {
   "cell_type": "code",
   "execution_count": null,
   "id": "ce3129db",
   "metadata": {},
   "outputs": [],
   "source": [
    "# Задача с экзамена \n",
    "def ollivander(wands_material, search):\n",
    "    if search in wands_material:\n",
    "        return True\n",
    "    else:\n",
    "        return False"
   ]
  },
  {
   "cell_type": "markdown",
   "id": "3ab33345",
   "metadata": {},
   "source": [
    "Реализуйте программу, которая проверяет, является ли оценка проходной:\n",
    "\n",
    "**Определите функцию is_passing, которая принимает два аргумента — grade (оценка) и passing_grade (проходной балл).\n",
    "Функция возвращает логическую константу True, если оценка больше или равна проходному баллу, и False в другом случае.**"
   ]
  },
  {
   "cell_type": "code",
   "execution_count": null,
   "id": "ecfd28c3",
   "metadata": {},
   "outputs": [],
   "source": [
    "def is_passing(grade, passing_grade):\n",
    "    if grade >= passing_grade:\n",
    "        return True\n",
    "    else:\n",
    "        return False"
   ]
  },
  {
   "cell_type": "markdown",
   "id": "93fb2bf7",
   "metadata": {},
   "source": [
    "Чтобы позвонить в домофон, нужно нажать на кнопку '*', а потом набрать некую последовательность цифр — номер вызываемой квартиры. Напишите функцию, которая проверяет, правильно ли сделан набор на домофоне для звонка. \n",
    "\n",
    "ТРЕБУЕМАЯ ФУНКЦИЯ\n",
    "Функция check_door_phone, которая принимает в качестве первого параметра строку — последовательность введенных с помощью кнопок домофона символов\n",
    "В качестве второго параметра функция принимает список из двух чисел — номера первой и последней квартиры в подъезде\n",
    " Функция должна вернуть True, если ввод совершен корректно (начинается с символа '*' и заканчивается номером квартиры, находящейся в данном подъезде) и False в обратном случае"
   ]
  },
  {
   "cell_type": "code",
   "execution_count": null,
   "id": "9c0bdb47",
   "metadata": {},
   "outputs": [],
   "source": [
    "[1,65]"
   ]
  },
  {
   "cell_type": "code",
   "execution_count": null,
   "id": "c2a98cb9",
   "metadata": {},
   "outputs": [],
   "source": []
  },
  {
   "cell_type": "code",
   "execution_count": null,
   "id": "15839d6e",
   "metadata": {},
   "outputs": [],
   "source": []
  },
  {
   "cell_type": "markdown",
   "id": "b02c99be",
   "metadata": {},
   "source": [
    "Петя проходит практику в учебном офисе своего факультета и проверяет заявки студентов на получение гранта. Одно из условий — год рождения студента не может быть раньше 2000-го. Помогите Пете проверить валидность заявок.\n",
    "\n",
    "ТРЕБУЕМАЯ ФУНКЦИЯ\n",
    "Функция is_birth_year_valid, параметром которой является список строк — даты рождения студентов в формате 'DD.MM.YYYY' (например, '01.01.2002')\n",
    "Гарантируется, что в списке есть дата рождения как минимум одного студента.\n",
    "Функция должна возвращать целое число — количество студентов, которые не могут претендовать на грант (т.е. которые родились раньше 2000-го года). Если таких студентов нет, то функция выводит 0."
   ]
  },
  {
   "cell_type": "code",
   "execution_count": 6,
   "id": "baa000dc",
   "metadata": {},
   "outputs": [],
   "source": [
    "def is_birth_year_valid(dates):\n",
    "    n = 0\n",
    "    for i in dates:\n",
    "        if int(i[6:]) < 2000:\n",
    "            n+=1\n",
    "    return n"
   ]
  },
  {
   "cell_type": "code",
   "execution_count": 7,
   "id": "a98a53f6",
   "metadata": {},
   "outputs": [
    {
     "data": {
      "text/plain": [
       "2"
      ]
     },
     "execution_count": 7,
     "metadata": {},
     "output_type": "execute_result"
    }
   ],
   "source": [
    "dates = ['01.01.2002', '01.01.1902', '01.01.1002']\n",
    "is_birth_year_valid(dates)"
   ]
  },
  {
   "cell_type": "markdown",
   "id": "ad6b0ccb",
   "metadata": {},
   "source": [
    "# Файлы "
   ]
  },
  {
   "cell_type": "markdown",
   "id": "7ffcbac4",
   "metadata": {},
   "source": [
    "with open (‘название файла’, ‘модуль’, encoding = ‘utf-8’) as <псевдоним> :\n",
    "\n",
    "модуль - ‘r’ - чтение, ‘a’-редактировать, ‘w’- полностью переписать\n",
    "\n",
    "**Как создать новый файл:**\n",
    "\n",
    "with open (‘new_file’, ‘a’, encoding = ‘utf-8’) as <псевдоним> :\n",
    "\n",
    "                \n",
    "Файлы состоят из линий. Задания связаны с тем, чтобы что-то из этих линий взять. Пользуемся 2 вещами:\n",
    "\n",
    "- for line in <псевдоним>:\n",
    "    \n",
    "- line = line.strip(‘\\n ’) - чтобы избавиться от пробелов \n",
    "\n",
    "- line.split(‘’) - чтобы разделить линию на нужные элементы. Например.\n",
    "\n",
    "Линия может выглядеть так:\n",
    "    \n",
    "Сидоров;Победитель;Москва \n",
    "\n",
    "Нам нужно взять только фамилию тогда наши действия:\n",
    "\n",
    "line = line.split(';')\n",
    "\n",
    "line[0]\n",
    "\n",
    "- добавить в словарь, в список или в строку нужные фразы\n",
    "\n",
    "\n",
    "чтобы записать что-то в файл - print(‘..что записать.’, file = …название файла)\n"
   ]
  },
  {
   "cell_type": "code",
   "execution_count": null,
   "id": "c149cc99",
   "metadata": {},
   "outputs": [],
   "source": [
    "Сидоров;Победитель;Москва \\n\n",
    "Сидоров;Победитель;Москва\n",
    "Сидоров;Победитель;Москва"
   ]
  },
  {
   "cell_type": "markdown",
   "id": "4e2c0442",
   "metadata": {},
   "source": [
    "Решить задания из демо рекламы. Для практики.  https://edu.hse.ru/course/view.php?id=134286"
   ]
  },
  {
   "cell_type": "code",
   "execution_count": null,
   "id": "db77d99f",
   "metadata": {},
   "outputs": [],
   "source": [
    "b = {}\n",
    "with open('olympiada.csv', 'r', encoding = 'utf-8') as file:\n",
    "    for line in file:\n",
    "        line = line.strip('\\n')\n",
    "        line = line.split(';')\n",
    "        city = line[2]\n",
    "        if city not in b:\n",
    "            b[city] = 1\n",
    "        else:\n",
    "            b[city]+=1\n",
    "max_part = max(b.values())\n",
    "for i in b:\n",
    "    if b[i] = max_part:\n",
    "        print(i)"
   ]
  },
  {
   "cell_type": "markdown",
   "id": "e44830d2",
   "metadata": {},
   "source": [
    "Есть файл с информацией про победителей олмипиад из разных городов. Нужно вывести тот город, в котором было больше всего победителей. Данные о кадому студенте в файле выглядят так: Сидоров;Победитель;Москва\n",
    "\n",
    " "
   ]
  },
  {
   "cell_type": "code",
   "execution_count": 11,
   "id": "4cb66b63",
   "metadata": {},
   "outputs": [
    {
     "ename": "SyntaxError",
     "evalue": "invalid syntax (567545040.py, line 12)",
     "output_type": "error",
     "traceback": [
      "\u001b[0;36m  File \u001b[0;32m\"/var/folders/yk/y4brywlj7hggth8sp2wv0fmc0000gn/T/ipykernel_7893/567545040.py\"\u001b[0;36m, line \u001b[0;32m12\u001b[0m\n\u001b[0;31m    )\u001b[0m\n\u001b[0m     ^\u001b[0m\n\u001b[0;31mSyntaxError\u001b[0m\u001b[0;31m:\u001b[0m invalid syntax\n"
     ]
    }
   ],
   "source": [
    "москва москва минск новгород минск москва "
   ]
  },
  {
   "cell_type": "code",
   "execution_count": null,
   "id": "c7b86130",
   "metadata": {},
   "outputs": [],
   "source": [
    "# 19 demo\n",
    "city = input()\n",
    "with open('olymp.csv', encoding = 'utf-8') as file:\n",
    "    for line in file:\n",
    "        line = line.strip('\\n')\n",
    "        i = line.split(',')\n",
    "        if city in i and 'Победитель' in i:\n",
    "            print(line)"
   ]
  },
  {
   "cell_type": "code",
   "execution_count": null,
   "id": "55cc32b8",
   "metadata": {},
   "outputs": [],
   "source": [
    "# 20 demo\n",
    "city = input()\n",
    "all = 0\n",
    "winners = 0\n",
    "with open('olymp.csv', encoding = 'utf-8') as file:\n",
    "    for line in file:\n",
    "        line = line.strip('\\n')\n",
    "        if city in line:\n",
    "            all += 1\n",
    "            if 'Победитель' in line:\n",
    "                winners+=1\n",
    "print(round(winners/all*100))"
   ]
  },
  {
   "cell_type": "code",
   "execution_count": 2,
   "id": "971417b6",
   "metadata": {},
   "outputs": [
    {
     "ename": "NameError",
     "evalue": "name 'text_to_words' is not defined",
     "output_type": "error",
     "traceback": [
      "\u001b[0;31m---------------------------------------------------------------------------\u001b[0m",
      "\u001b[0;31mNameError\u001b[0m                                 Traceback (most recent call last)",
      "\u001b[0;32m/var/folders/yk/y4brywlj7hggth8sp2wv0fmc0000gn/T/ipykernel_35667/1868665647.py\u001b[0m in \u001b[0;36m<module>\u001b[0;34m\u001b[0m\n\u001b[1;32m      9\u001b[0m         \u001b[0;32mreturn\u001b[0m \u001b[0mcount_dict\u001b[0m\u001b[0;34m\u001b[0m\u001b[0;34m\u001b[0m\u001b[0m\n\u001b[1;32m     10\u001b[0m \u001b[0mphrase\u001b[0m \u001b[0;34m=\u001b[0m \u001b[0;34m'Одна панда ест бамбук а другая панда спит'\u001b[0m\u001b[0;34m\u001b[0m\u001b[0;34m\u001b[0m\u001b[0m\n\u001b[0;32m---> 11\u001b[0;31m \u001b[0mprint\u001b[0m\u001b[0;34m(\u001b[0m\u001b[0mcount_words\u001b[0m\u001b[0;34m(\u001b[0m\u001b[0mphrase\u001b[0m\u001b[0;34m)\u001b[0m\u001b[0;34m)\u001b[0m\u001b[0;34m\u001b[0m\u001b[0;34m\u001b[0m\u001b[0m\n\u001b[0m",
      "\u001b[0;32m/var/folders/yk/y4brywlj7hggth8sp2wv0fmc0000gn/T/ipykernel_35667/1868665647.py\u001b[0m in \u001b[0;36mcount_words\u001b[0;34m(text)\u001b[0m\n\u001b[1;32m      4\u001b[0m \u001b[0;32mdef\u001b[0m \u001b[0mcount_words\u001b[0m\u001b[0;34m(\u001b[0m\u001b[0mtext\u001b[0m\u001b[0;34m)\u001b[0m\u001b[0;34m:\u001b[0m\u001b[0;34m\u001b[0m\u001b[0;34m\u001b[0m\u001b[0m\n\u001b[1;32m      5\u001b[0m     \u001b[0mcount_dict\u001b[0m \u001b[0;34m=\u001b[0m \u001b[0;34m{\u001b[0m\u001b[0;34m}\u001b[0m\u001b[0;34m\u001b[0m\u001b[0;34m\u001b[0m\u001b[0m\n\u001b[0;32m----> 6\u001b[0;31m     \u001b[0mwords\u001b[0m \u001b[0;34m=\u001b[0m \u001b[0mtext_to_words\u001b[0m\u001b[0;34m(\u001b[0m\u001b[0mtext\u001b[0m\u001b[0;34m)\u001b[0m\u001b[0;34m\u001b[0m\u001b[0;34m\u001b[0m\u001b[0m\n\u001b[0m\u001b[1;32m      7\u001b[0m     \u001b[0;32mfor\u001b[0m \u001b[0mword\u001b[0m \u001b[0;32min\u001b[0m \u001b[0mset\u001b[0m\u001b[0;34m(\u001b[0m\u001b[0mwords\u001b[0m\u001b[0;34m)\u001b[0m\u001b[0;34m:\u001b[0m\u001b[0;34m\u001b[0m\u001b[0;34m\u001b[0m\u001b[0m\n\u001b[1;32m      8\u001b[0m         \u001b[0mcount_dict\u001b[0m\u001b[0;34m[\u001b[0m\u001b[0mword\u001b[0m\u001b[0;34m]\u001b[0m \u001b[0;34m=\u001b[0m \u001b[0mwords\u001b[0m\u001b[0;34m.\u001b[0m\u001b[0mcount\u001b[0m\u001b[0;34m(\u001b[0m\u001b[0mword\u001b[0m\u001b[0;34m)\u001b[0m\u001b[0;34m\u001b[0m\u001b[0;34m\u001b[0m\u001b[0m\n",
      "\u001b[0;31mNameError\u001b[0m: name 'text_to_words' is not defined"
     ]
    }
   ],
   "source": [
    "def text2words(text):\n",
    "    words = text.lower().split()\n",
    "    return words\n",
    "def count_words(text):\n",
    "    count_dict = {}\n",
    "    words = text_to_words(text)\n",
    "    for word in set(words): \n",
    "        count_dict[word] = words.count(word)\n",
    "        return count_dict\n",
    "phrase = 'Одна панда ест бамбук а другая панда спит'\n",
    "print(count_words(phrase))"
   ]
  },
  {
   "cell_type": "code",
   "execution_count": null,
   "id": "66a8d5a0",
   "metadata": {},
   "outputs": [],
   "source": [
    "# 19 в демо 2023\n",
    "city = input()\n",
    "with open('olymp.csv', encoding = 'utf-8') as file:\n",
    "    for line in file:\n",
    "        line=line.strip('\\n')\n",
    "        if city in line and 'Победитель' in line:\n",
    "            print(line)\n",
    "            "
   ]
  },
  {
   "cell_type": "code",
   "execution_count": null,
   "id": "6cb1716f",
   "metadata": {},
   "outputs": [],
   "source": [
    "# 19 в демо 2023 2 вариант\n",
    "city = input()\n",
    "with open('olymp.csv', encoding = 'utf-8') as file:\n",
    "    for line in file:\n",
    "        line=line.strip('\\n')\n",
    "        k = line.split(',')\n",
    "        if city == k[1] and 'Победитель' == k[-1]:\n",
    "            print(line)\n",
    "            "
   ]
  },
  {
   "cell_type": "code",
   "execution_count": null,
   "id": "f24c3112",
   "metadata": {},
   "outputs": [],
   "source": [
    "# 20 в демо 2023\n",
    "city = input()\n",
    "all = 0\n",
    "winner = 0\n",
    "with open('olymp.csv', encoding = 'utf-8') as file:\n",
    "    for line in file:\n",
    "        line=line.strip('\\n')\n",
    "        if city in line:\n",
    "            all+=1\n",
    "            if 'Победитель' in line:\n",
    "                winner+=1\n",
    "print(round(winner/all*100))"
   ]
  },
  {
   "cell_type": "code",
   "execution_count": null,
   "id": "1dab66d8",
   "metadata": {},
   "outputs": [],
   "source": [
    "# C3-1 в банке заданий\n",
    "b ={}\n",
    "with open('ice-cream.csv', encoding = 'UTF-8') as file:\n",
    "    for line in file:\n",
    "        line=line.strip('\\n')\n",
    "        line = set(line.split(';'))\n",
    "        for i in line:\n",
    "            if i not in b:\n",
    "                b[i]=1\n",
    "            else:\n",
    "                b[i]+=1\n",
    "maximum = max(b.values())\n",
    "for i in b:\n",
    "    if b[i] == maximum:\n",
    "        print(i)"
   ]
  },
  {
   "cell_type": "code",
   "execution_count": null,
   "id": "4cc6f593",
   "metadata": {},
   "outputs": [],
   "source": [
    "# C3-3 в банке заданий\n",
    "b = {}\n",
    "with open('music.csv', encoding = 'UTF-8') as file:\n",
    "     for line in file:\n",
    "        line = line.strip('\\n')\n",
    "        line = line.split(';')\n",
    "        s = line[0]\n",
    "        l = int(line[3])\n",
    "        if s not in b:\n",
    "            b[s] = l\n",
    "        else:\n",
    "            b[s]+=l\n",
    "maximum = max(b.values())\n",
    "for i in b:\n",
    "    if b[i] == maximum:\n",
    "        print(i)"
   ]
  },
  {
   "cell_type": "code",
   "execution_count": null,
   "id": "45ebd447",
   "metadata": {},
   "outputs": [],
   "source": [
    "# C1-1 в банке заданий\n",
    "playlist = input().split(', ')\n",
    "search = input()\n",
    "n=0\n",
    "for i in playlist:\n",
    "    i = i.split(' | ')\n",
    "    if search.lower() in i[0].lower():\n",
    "        n+=1\n",
    "print(n)"
   ]
  },
  {
   "cell_type": "code",
   "execution_count": null,
   "id": "f767ac2b",
   "metadata": {},
   "outputs": [],
   "source": [
    "# C1-2 в банке заданий\n",
    "b = {}\n",
    "dotopr = input()\n",
    "while dostopr!='КОНЕЦ':\n",
    "    dostopr = s.split(' - ')\n",
    "    nazvanie = dostopr[0]\n",
    "    rast = int(dostopr[1])\n",
    "    b[nazvanie] = rast\n",
    "    dostopr = input()\n",
    "minimum = min(b.values())\n",
    "for i in b:\n",
    "    if b[i] == minimum:\n",
    "        print(i)"
   ]
  },
  {
   "cell_type": "code",
   "execution_count": 6,
   "id": "075a284e",
   "metadata": {},
   "outputs": [
    {
     "name": "stdout",
     "output_type": "stream",
     "text": [
      "False\n",
      "True\n",
      "True\n"
     ]
    }
   ],
   "source": [
    "prices = [{'Авокадо': 200}, {'Голубика': 320}, {'Ананас': 280}]\n",
    "\n",
    "for i in range(len(prices)):\n",
    "    print(list(prices[i].items())[0][1]>250)"
   ]
  },
  {
   "cell_type": "code",
   "execution_count": 1,
   "id": "1377cb7c",
   "metadata": {},
   "outputs": [
    {
     "data": {
      "text/plain": [
       "{'а', 'м'}"
      ]
     },
     "execution_count": 1,
     "metadata": {},
     "output_type": "execute_result"
    }
   ],
   "source": [
    "name = 'мама'\n",
    "set(name)"
   ]
  },
  {
   "cell_type": "code",
   "execution_count": 2,
   "id": "4f3310b9",
   "metadata": {},
   "outputs": [
    {
     "data": {
      "text/plain": [
       "['а', 'а', 'м', 'м']"
      ]
     },
     "execution_count": 2,
     "metadata": {},
     "output_type": "execute_result"
    }
   ],
   "source": [
    "sorted(name)"
   ]
  },
  {
   "cell_type": "code",
   "execution_count": 3,
   "id": "8a13bfe7",
   "metadata": {},
   "outputs": [
    {
     "name": "stdout",
     "output_type": "stream",
     "text": [
      "False\n",
      "True\n",
      "True\n"
     ]
    }
   ],
   "source": [
    "prices = [{'Авокадо': 200}, {'Голубика': 320}, {'Ананас': 280}]\n",
    "\n",
    "for i in range(len(prices)):\n",
    "    print(list(prices[i].items())[0][1]>250)"
   ]
  },
  {
   "cell_type": "code",
   "execution_count": 5,
   "id": "bad701ec",
   "metadata": {},
   "outputs": [
    {
     "name": "stdout",
     "output_type": "stream",
     "text": [
      "38\n"
     ]
    }
   ],
   "source": [
    "def summ_square(numbers):\n",
    "    summ = 0\n",
    "    for num in numbers:\n",
    "        summ += num ** 2\n",
    "    return summ\n",
    "\n",
    "def prices(info):\n",
    "    prices = []\n",
    "    for item in info.values():\n",
    "        prices.append(item)\n",
    "    return summ_square(prices)\n",
    "\n",
    "info_new = {'Лимон': 5, 'Авокадо': 3, 'Мандарин': 2}\n",
    "print(prices(info_new))"
   ]
  },
  {
   "cell_type": "code",
   "execution_count": null,
   "id": "45f2744b",
   "metadata": {},
   "outputs": [],
   "source": []
  }
 ],
 "metadata": {
  "kernelspec": {
   "display_name": "Python 3 (ipykernel)",
   "language": "python",
   "name": "python3"
  },
  "language_info": {
   "codemirror_mode": {
    "name": "ipython",
    "version": 3
   },
   "file_extension": ".py",
   "mimetype": "text/x-python",
   "name": "python",
   "nbconvert_exporter": "python",
   "pygments_lexer": "ipython3",
   "version": "3.9.7"
  }
 },
 "nbformat": 4,
 "nbformat_minor": 5
}
