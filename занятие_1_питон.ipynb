{
 "cells": [
  {
   "cell_type": "markdown",
   "id": "8e1e038f",
   "metadata": {},
   "source": [
    "Типы данных:\n",
    "\n",
    "int - целое число (1) работает как функция - int()\n",
    "\n",
    "float -  вещественное(читай дробное) - 1.4 (точка!!!!) работает как функция - float()\n",
    "\n",
    "str -  '' или \"\". работает как функция  - str() \n",
    "\n",
    "bool - логические переменные True и False. "
   ]
  },
  {
   "cell_type": "code",
   "execution_count": null,
   "id": "64761ede",
   "metadata": {},
   "outputs": [],
   "source": []
  },
  {
   "cell_type": "code",
   "execution_count": 2,
   "id": "65dfcfc0",
   "metadata": {},
   "outputs": [
    {
     "data": {
      "text/plain": [
       "2"
      ]
     },
     "execution_count": 2,
     "metadata": {},
     "output_type": "execute_result"
    }
   ],
   "source": [
    "True+1"
   ]
  },
  {
   "cell_type": "code",
   "execution_count": 1,
   "id": "b73e9b13",
   "metadata": {},
   "outputs": [
    {
     "data": {
      "text/plain": [
       "1"
      ]
     },
     "execution_count": 1,
     "metadata": {},
     "output_type": "execute_result"
    }
   ],
   "source": [
    "int('1')"
   ]
  },
  {
   "cell_type": "code",
   "execution_count": 3,
   "id": "0211eea8",
   "metadata": {},
   "outputs": [
    {
     "data": {
      "text/plain": [
       "1.0"
      ]
     },
     "execution_count": 3,
     "metadata": {},
     "output_type": "execute_result"
    }
   ],
   "source": [
    "float('1')"
   ]
  },
  {
   "cell_type": "code",
   "execution_count": 3,
   "id": "6a4b4261",
   "metadata": {},
   "outputs": [
    {
     "data": {
      "text/plain": [
       "'1'"
      ]
     },
     "execution_count": 3,
     "metadata": {},
     "output_type": "execute_result"
    }
   ],
   "source": [
    "str(1)"
   ]
  },
  {
   "cell_type": "markdown",
   "id": "e388985c",
   "metadata": {},
   "source": [
    "В переменные можно добавлять все. Но есть правила, как называть переменные:\n",
    "1. никаких русских букв \n",
    "2. цифры не могут стоять в начале."
   ]
  },
  {
   "cell_type": "code",
   "execution_count": 3,
   "id": "f22a5ab3",
   "metadata": {},
   "outputs": [],
   "source": [
    "b = 'Дима'"
   ]
  },
  {
   "cell_type": "markdown",
   "id": "9054b20f",
   "metadata": {},
   "source": [
    "print() - выводит значения на экран. Можно в принте что-то считать, например, print(2+3)\n",
    "\n",
    "input() - мы вводим значения в код. Все что вводит инпут - это строка. Если нам по условию задачи сказано \"введите числа\", тогда мы применяем функцию int. int(input())\n",
    "\n",
    "len() - количество символов в строке (длина строки) \n",
    "\n",
    "(not) in - если что-то есть в переменной (строки)"
   ]
  },
  {
   "cell_type": "code",
   "execution_count": 9,
   "id": "e9168a96",
   "metadata": {},
   "outputs": [
    {
     "name": "stdout",
     "output_type": "stream",
     "text": [
      "1\n"
     ]
    },
    {
     "data": {
      "text/plain": [
       "1"
      ]
     },
     "execution_count": 9,
     "metadata": {},
     "output_type": "execute_result"
    }
   ],
   "source": [
    "a = int(input())\n",
    "a"
   ]
  },
  {
   "cell_type": "code",
   "execution_count": 34,
   "id": "5d856f41",
   "metadata": {},
   "outputs": [
    {
     "name": "stdout",
     "output_type": "stream",
     "text": [
      "Влад\n"
     ]
    }
   ],
   "source": [
    "print(a)"
   ]
  },
  {
   "cell_type": "code",
   "execution_count": 1,
   "id": "35ce05fd",
   "metadata": {},
   "outputs": [
    {
     "name": "stdout",
     "output_type": "stream",
     "text": [
      "Уважаемый Дима\n"
     ]
    }
   ],
   "source": [
    "# Выведите строку типа: \"Уважаемый <переменная имени>\"\n",
    "a = 'Дима'\n",
    "print(f'Уважаемый {a}')"
   ]
  },
  {
   "cell_type": "code",
   "execution_count": 16,
   "id": "ef1f1e1a",
   "metadata": {},
   "outputs": [
    {
     "name": "stdout",
     "output_type": "stream",
     "text": [
      "4\n"
     ]
    }
   ],
   "source": [
    "print(len(a))"
   ]
  },
  {
   "cell_type": "code",
   "execution_count": 6,
   "id": "cf4eb959",
   "metadata": {},
   "outputs": [
    {
     "name": "stdout",
     "output_type": "stream",
     "text": [
      "1 2\n"
     ]
    }
   ],
   "source": [
    "a = 1\n",
    "b = 2\n",
    "print(a,b)"
   ]
  },
  {
   "cell_type": "code",
   "execution_count": 7,
   "id": "ec0fd2ed",
   "metadata": {},
   "outputs": [
    {
     "name": "stdout",
     "output_type": "stream",
     "text": [
      "1, 2\n"
     ]
    }
   ],
   "source": [
    "a = 1\n",
    "b = 2\n",
    "print(a,b,sep=', ')"
   ]
  },
  {
   "cell_type": "code",
   "execution_count": 7,
   "id": "b39e22df",
   "metadata": {},
   "outputs": [
    {
     "name": "stdout",
     "output_type": "stream",
     "text": [
      "1\n",
      "2\n"
     ]
    }
   ],
   "source": [
    "a = 1\n",
    "b = 2\n",
    "print(a,b,sep='\\n') # 1\\n2"
   ]
  },
  {
   "cell_type": "markdown",
   "id": "5cfa8ba8",
   "metadata": {},
   "source": [
    "*функция type - чтобы увидеть тип данных*"
   ]
  },
  {
   "cell_type": "code",
   "execution_count": 3,
   "id": "839f7b9b",
   "metadata": {},
   "outputs": [
    {
     "data": {
      "text/plain": [
       "str"
      ]
     },
     "execution_count": 3,
     "metadata": {},
     "output_type": "execute_result"
    }
   ],
   "source": [
    "a = '1'\n",
    "type(a)"
   ]
  },
  {
   "cell_type": "code",
   "execution_count": 6,
   "id": "9a85d7f7",
   "metadata": {},
   "outputs": [
    {
     "name": "stdout",
     "output_type": "stream",
     "text": [
      "repeatrepeatrepeatrepeatrepeat\n"
     ]
    }
   ],
   "source": [
    "my_variable = 'repeat'\n",
    "multiplier = 5\n",
    "new_variable = my_variable * multiplier"
   ]
  },
  {
   "cell_type": "code",
   "execution_count": 15,
   "id": "72ccffa5",
   "metadata": {},
   "outputs": [
    {
     "data": {
      "text/plain": [
       "str"
      ]
     },
     "execution_count": 15,
     "metadata": {},
     "output_type": "execute_result"
    }
   ],
   "source": [
    "type(new_variable)"
   ]
  },
  {
   "cell_type": "markdown",
   "id": "3047d415",
   "metadata": {},
   "source": [
    "**Индексы**. В строках есть индексы у каждого символа. Индексы - это числа. Начинаем считать с нуля. "
   ]
  },
  {
   "cell_type": "code",
   "execution_count": 13,
   "id": "99939aa6",
   "metadata": {},
   "outputs": [
    {
     "name": "stdout",
     "output_type": "stream",
     "text": [
      "м\n",
      "м\n"
     ]
    }
   ],
   "source": [
    "a = 'мандарин'\n",
    "n = 0\n",
    "print(a[0])\n",
    "print(a[n])"
   ]
  },
  {
   "cell_type": "code",
   "execution_count": 10,
   "id": "4e15c613",
   "metadata": {},
   "outputs": [
    {
     "name": "stdout",
     "output_type": "stream",
     "text": [
      "н\n"
     ]
    }
   ],
   "source": [
    "# отрицательная индексация \n",
    "a[-3]\n",
    "# всегда последний символ\n",
    "print(a[-1])"
   ]
  },
  {
   "cell_type": "markdown",
   "id": "b279a539",
   "metadata": {},
   "source": [
    "Бывают срезы. Это интервал символов. Выглядит так: [1:8]. С первого символа начинаем на 8 заканчиваем работу!!!"
   ]
  },
  {
   "cell_type": "code",
   "execution_count": 10,
   "id": "66469396",
   "metadata": {
    "scrolled": true
   },
   "outputs": [
    {
     "name": "stdout",
     "output_type": "stream",
     "text": [
      "мандар\n"
     ]
    }
   ],
   "source": [
    "a = 'мандарин'\n",
    "print(a[0:6])"
   ]
  },
  {
   "cell_type": "code",
   "execution_count": 22,
   "id": "aec0ec0b",
   "metadata": {},
   "outputs": [
    {
     "name": "stdout",
     "output_type": "stream",
     "text": [
      "мна\n"
     ]
    }
   ],
   "source": [
    "print(a[0:6:2])"
   ]
  },
  {
   "cell_type": "code",
   "execution_count": 14,
   "id": "12348018",
   "metadata": {},
   "outputs": [
    {
     "name": "stdout",
     "output_type": "stream",
     "text": [
      "андарин\n"
     ]
    }
   ],
   "source": [
    "print(a[1:])"
   ]
  },
  {
   "cell_type": "code",
   "execution_count": 12,
   "id": "6d875028",
   "metadata": {},
   "outputs": [
    {
     "name": "stdout",
     "output_type": "stream",
     "text": [
      "ин\n"
     ]
    }
   ],
   "source": [
    "print(a[6:])"
   ]
  },
  {
   "cell_type": "code",
   "execution_count": 27,
   "id": "510c1049",
   "metadata": {},
   "outputs": [
    {
     "name": "stdout",
     "output_type": "stream",
     "text": [
      "мандар\n"
     ]
    }
   ],
   "source": [
    "print(a[:6])"
   ]
  },
  {
   "cell_type": "code",
   "execution_count": 2,
   "id": "d2ea7fae",
   "metadata": {},
   "outputs": [
    {
     "name": "stdout",
     "output_type": "stream",
     "text": [
      "адрн\n"
     ]
    }
   ],
   "source": [
    "print(a[1::2])"
   ]
  },
  {
   "cell_type": "code",
   "execution_count": 28,
   "id": "951d4e08",
   "metadata": {},
   "outputs": [
    {
     "name": "stdout",
     "output_type": "stream",
     "text": [
      "мнаи\n"
     ]
    }
   ],
   "source": [
    "print(a[::2])"
   ]
  },
  {
   "cell_type": "code",
   "execution_count": 10,
   "id": "176ce22d",
   "metadata": {},
   "outputs": [
    {
     "name": "stdout",
     "output_type": "stream",
     "text": [
      "нираднам\n"
     ]
    }
   ],
   "source": [
    "print(a[::-1])"
   ]
  },
  {
   "cell_type": "code",
   "execution_count": null,
   "id": "915a9947",
   "metadata": {},
   "outputs": [],
   "source": [
    "#aрифметические операции \n",
    "+\n",
    "-\n",
    "/ - деление \n",
    "// - деление нацело \n",
    "% - остаток от деления \n",
    "** - степень\n",
    "* - умножение"
   ]
  },
  {
   "cell_type": "code",
   "execution_count": 21,
   "id": "da4c67ae",
   "metadata": {},
   "outputs": [
    {
     "name": "stdout",
     "output_type": "stream",
     "text": [
      "мамапапа\n",
      "мамамамамама\n"
     ]
    }
   ],
   "source": [
    "a = 'мама'\n",
    "print(a+'папа')\n",
    "print(a*3)"
   ]
  },
  {
   "cell_type": "code",
   "execution_count": 15,
   "id": "e0e996e0",
   "metadata": {},
   "outputs": [
    {
     "name": "stdout",
     "output_type": "stream",
     "text": [
      "1\n"
     ]
    }
   ],
   "source": [
    "print(7%2)"
   ]
  },
  {
   "cell_type": "markdown",
   "id": "d191c652",
   "metadata": {},
   "source": [
    "# Условные операторы"
   ]
  },
  {
   "cell_type": "code",
   "execution_count": 1,
   "id": "5013ae93",
   "metadata": {},
   "outputs": [
    {
     "ename": "SyntaxError",
     "evalue": "invalid character '…' (U+2026) (347013703.py, line 1)",
     "output_type": "error",
     "traceback": [
      "\u001b[0;36m  File \u001b[0;32m\"/var/folders/yk/y4brywlj7hggth8sp2wv0fmc0000gn/T/ipykernel_90883/347013703.py\"\u001b[0;36m, line \u001b[0;32m1\u001b[0m\n\u001b[0;31m    if….:\u001b[0m\n\u001b[0m      ^\u001b[0m\n\u001b[0;31mSyntaxError\u001b[0m\u001b[0;31m:\u001b[0m invalid character '…' (U+2026)\n"
     ]
    }
   ],
   "source": [
    "if….:\n",
    "    ...\n",
    "elif….:\n",
    "    ….\n",
    "else:\n",
    "    ….\n",
    "\n",
    "elif/else можно опускать, они необязательны\n",
    "\n",
    "Связки:\n",
    "and  - и (все условия выполняются) - весит больше, главнее \n",
    "or  - или (одно из условий)\n",
    "not  - не (переворачивает условие, например not a==0 значит не равно 0) - главнейший\n",
    "\n",
    "Операторы:\n",
    "< - меньше \n",
    "> - больше \n",
    ">= - больше или равно \n",
    "<= - меньше или равно \n",
    "!= - не равно - можно со строками \n",
    "== - равно - можно со строками"
   ]
  },
  {
   "cell_type": "code",
   "execution_count": 17,
   "id": "8ead81e5",
   "metadata": {},
   "outputs": [
    {
     "ename": "IndentationError",
     "evalue": "expected an indented block (2387583011.py, line 2)",
     "output_type": "error",
     "traceback": [
      "\u001b[0;36m  File \u001b[0;32m\"/var/folders/yk/y4brywlj7hggth8sp2wv0fmc0000gn/T/ipykernel_22471/2387583011.py\"\u001b[0;36m, line \u001b[0;32m2\u001b[0m\n\u001b[0;31m    print()\u001b[0m\n\u001b[0m    ^\u001b[0m\n\u001b[0;31mIndentationError\u001b[0m\u001b[0;31m:\u001b[0m expected an indented block\n"
     ]
    }
   ],
   "source": [
    "if a>4:\n",
    "  print()"
   ]
  },
  {
   "cell_type": "code",
   "execution_count": null,
   "id": "0267717f",
   "metadata": {},
   "outputs": [],
   "source": [
    "# выполнение нескольких условий со связкой \n",
    "if a>4 and x>4:\n",
    "if a>4 and (b=='ch' or b=='v')"
   ]
  },
  {
   "cell_type": "code",
   "execution_count": 31,
   "id": "527ea1e8",
   "metadata": {},
   "outputs": [
    {
     "name": "stdout",
     "output_type": "stream",
     "text": [
      "3\n"
     ]
    }
   ],
   "source": [
    "a = 3\n",
    "if a%2==1:\n",
    "    print(a)"
   ]
  },
  {
   "cell_type": "code",
   "execution_count": 3,
   "id": "db704ef1",
   "metadata": {},
   "outputs": [
    {
     "name": "stdout",
     "output_type": "stream",
     "text": [
      "11\n",
      "12\n"
     ]
    }
   ],
   "source": [
    "a = int(input())\n",
    "if a==10:\n",
    "    print(a)\n",
    "elif a>1:\n",
    "    print(a+1)"
   ]
  },
  {
   "cell_type": "code",
   "execution_count": null,
   "id": "0e616559",
   "metadata": {},
   "outputs": [],
   "source": [
    "# Условия могут быть вложенными, то есть if может быть еще с if, вместе с elif и else"
   ]
  },
  {
   "cell_type": "markdown",
   "id": "05b280fa",
   "metadata": {},
   "source": [
    "**Задача 1**\n",
    "\n",
    "Банкомат Банкомат выдает суммы, только кратные 100 рублям, потому что купюр мельче у него нет. Выведите на экран \"ДА\", если банкомат сможет выдать введенную сумму, и \"НЕТ\", если не сможет."
   ]
  },
  {
   "cell_type": "code",
   "execution_count": 19,
   "id": "4e531453",
   "metadata": {},
   "outputs": [
    {
     "name": "stdout",
     "output_type": "stream",
     "text": [
      "850\n",
      "НЕТ\n"
     ]
    }
   ],
   "source": [
    "money = int(input())\n",
    "if money % 100 == 0:\n",
    "    print('ДА')\n",
    "else:\n",
    "    print('НЕТ')"
   ]
  },
  {
   "cell_type": "markdown",
   "id": "4665f83a",
   "metadata": {},
   "source": [
    "**Задача 2**\n",
    "\n",
    "Напишите программу, которая проверяет, оканчивается ли введенное слово word введенной буквой letter. \n",
    "\n",
    "Если условие выполняется, то выводится строка \"Это слово оканчивается на эту букву\" Если условие не выполняется, то выводится строка \"Увы!\" "
   ]
  },
  {
   "cell_type": "code",
   "execution_count": 21,
   "id": "2ad85cf4",
   "metadata": {},
   "outputs": [
    {
     "name": "stdout",
     "output_type": "stream",
     "text": [
      "кот\n",
      "м\n",
      "Увы!\n"
     ]
    }
   ],
   "source": [
    "word = input()\n",
    "letter = input()\n",
    "if letter == word[-1]:\n",
    "    print(\"Это слово оканчивается на эту букву\")\n",
    "else:\n",
    "    print('Увы!')"
   ]
  },
  {
   "cell_type": "markdown",
   "id": "fb74b567",
   "metadata": {},
   "source": [
    "**Задача 3**\n",
    "\n",
    "Поступление в университет Паша участвует в двух олимпиадах, которые дают разные преимущества при поступлении в вуз. Если он наберет не менее 95 баллов хотя бы по одной олимпиаде, то получит бюджетное место. Если же он наберет на каждой из двух олимпиад не менее 80 баллов, то получит скидку. Иначе — Паша не поступит. Выведите на экран вердикт Паше в приемной комиссии."
   ]
  },
  {
   "cell_type": "code",
   "execution_count": 16,
   "id": "ad4ca127",
   "metadata": {},
   "outputs": [
    {
     "name": "stdout",
     "output_type": "stream",
     "text": [
      "81\n",
      "80\n",
      "s\n"
     ]
    }
   ],
   "source": [
    "o1 = int(input())\n",
    "o2 = int(input())\n",
    "if o1 >= 95 or o1 >= 95:\n",
    "    print('b')\n",
    "elif o1 >= 80 and o2>= 80:\n",
    "    print('s')\n",
    "else:\n",
    "    print('-')"
   ]
  },
  {
   "cell_type": "markdown",
   "id": "50145b72",
   "metadata": {},
   "source": [
    "**Задача 4**"
   ]
  },
  {
   "cell_type": "markdown",
   "id": "c7e7bf46",
   "metadata": {},
   "source": [
    "Целое число (оценка) в интервале от 0 до 10 считывается в переменную mark. Этот код уже написан. Программа выводит строку \"ЗАЧЕТ\" (если оценка больше или равна 4) или строку \"НЕЗАЧЕТ\" (в остальных случаях)."
   ]
  },
  {
   "cell_type": "code",
   "execution_count": 23,
   "id": "a7409aed",
   "metadata": {},
   "outputs": [
    {
     "name": "stdout",
     "output_type": "stream",
     "text": [
      "1\n",
      "НЕЗАЧЕТ\n"
     ]
    }
   ],
   "source": [
    "mark = int(input())\n",
    "if mark >= 4:\n",
    "    print('ЗАЧЕТ')\n",
    "else:\n",
    "    print('НЕЗАЧЕТ')"
   ]
  },
  {
   "cell_type": "markdown",
   "id": "b4d1653d",
   "metadata": {},
   "source": [
    "**Задача 5**"
   ]
  },
  {
   "cell_type": "markdown",
   "id": "9c803b64",
   "metadata": {},
   "source": [
    "Определитель номера В записной книжке у Васи трое друзей — Петя, Саша и Даша. Также Вася не любит отвечать незнакомым людям, поэтому у него стоит определитель номеров, который показывает имя звонившего. Чтобы упростить себе жизнь, Вася написал короткую программу, которая по имени звонящего решает, допускать звонок или нет. Если имя совпадает с именами друзей Васи, то программа отправляет \"ok\", и вызов проходит, если же имя не знакомо, то программа выдает \"ban\"."
   ]
  },
  {
   "cell_type": "code",
   "execution_count": null,
   "id": "08424578",
   "metadata": {},
   "outputs": [],
   "source": []
  },
  {
   "cell_type": "markdown",
   "id": "06d86b72",
   "metadata": {},
   "source": [
    "**Задача 6**"
   ]
  },
  {
   "cell_type": "markdown",
   "id": "9fc656c7",
   "metadata": {},
   "source": [
    "Определите по номеру года, в каком веке этот год. Не забывайте, что, например, 21 век начался с 2001 года, а 2000 год относится к 20 веку. "
   ]
  },
  {
   "cell_type": "code",
   "execution_count": 4,
   "id": "6c0fea63",
   "metadata": {},
   "outputs": [
    {
     "name": "stdout",
     "output_type": "stream",
     "text": [
      "1897\n",
      "19\n"
     ]
    }
   ],
   "source": []
  },
  {
   "cell_type": "code",
   "execution_count": null,
   "id": "53493806",
   "metadata": {},
   "outputs": [],
   "source": [
    "1800- 18 век\n",
    "1801 - 19 век"
   ]
  },
  {
   "cell_type": "markdown",
   "id": "3a7cdc38",
   "metadata": {},
   "source": [
    "**Задача 7** Нужно проверить день недели. Если ввводится воскресенье, выводим строку - сегодня выходной. Если вводит любой другой день - пишем \"нужно на пары.\""
   ]
  },
  {
   "cell_type": "code",
   "execution_count": null,
   "id": "a380ac91",
   "metadata": {},
   "outputs": [],
   "source": [
    "a = input()\n",
    "if a == 'воскресенье':\n",
    "    print('cегодня выходной')\n",
    "else:\n",
    "    print('нужно на пары')"
   ]
  },
  {
   "cell_type": "markdown",
   "id": "924fd3d3",
   "metadata": {},
   "source": [
    "# ДЗ1"
   ]
  },
  {
   "cell_type": "markdown",
   "id": "f2ec0e34",
   "metadata": {},
   "source": [
    " Проверить начинается ли введенное слово word введенной буквой letter. Если да, выводим ок, если нет - не ок. "
   ]
  },
  {
   "cell_type": "code",
   "execution_count": null,
   "id": "05c5547b",
   "metadata": {},
   "outputs": [],
   "source": []
  },
  {
   "cell_type": "markdown",
   "id": "567acd17",
   "metadata": {},
   "source": [
    "# ДЗ 2"
   ]
  },
  {
   "cell_type": "markdown",
   "id": "e344ab85",
   "metadata": {},
   "source": [
    " Студент Петя поступает в университет. Он сдавал 1 экзамен, если его балл за экзамен меньше 60, то Вышка его не примен (вывод: не поступает). В обратном случае - он поступил"
   ]
  },
  {
   "cell_type": "code",
   "execution_count": null,
   "id": "782d0461",
   "metadata": {},
   "outputs": [],
   "source": []
  },
  {
   "cell_type": "markdown",
   "id": "258a4e9f",
   "metadata": {},
   "source": [
    "# Цикл while"
   ]
  },
  {
   "cell_type": "markdown",
   "id": "192f940e",
   "metadata": {},
   "source": [
    "while <условие>:\n",
    "\n",
    "   <инструкция>\n",
    "\n",
    "В цикле можно использовать вложенные условия с if\n",
    "\n",
    "Если нам нужно что-то постоянно вводить с клавиатуры можно воспользоваться такой схемой\n",
    "\n",
    "какая-та переменная = input()\n",
    "\n",
    "while <условие>:\n",
    "\n",
    "    *эта же переменная* = input()\n",
    "НО! очень часто, чтобы не повторять одних и тех же действий (как с input() в примере выше) можно и нужно использовать конструкцию while True. что это такое? Это бесконечный цикл! Вообще бесконечный цикл - это ошибка, которая может навредить вашему компьютеру, но если прописать в нем условие “выхода” из цикла с помощью break.\n",
    "\n",
    "Важный момент про break: если условие будет удовлетворено и сработает break, всё остальное, что есть в цикле после break, срабатывать не будет. Всё, что до, срабатывать будет. В этих условиях нужно быть очень осторожными!!"
   ]
  },
  {
   "cell_type": "markdown",
   "id": "172a152a",
   "metadata": {},
   "source": [
    "Вводятся числа, пока не введется ноль. После нуля цикл перестает работать. Внутри цикла нужно выводить число, возведенное в кквадрат "
   ]
  },
  {
   "cell_type": "code",
   "execution_count": 5,
   "id": "e8d7e399",
   "metadata": {},
   "outputs": [
    {
     "name": "stdout",
     "output_type": "stream",
     "text": [
      "4\n",
      "16\n",
      "5\n",
      "25\n",
      "6\n",
      "36\n",
      "7\n",
      "49\n",
      "0\n"
     ]
    }
   ],
   "source": [
    "a = int(input())\n",
    "while a!=0:\n",
    "    print(a**2)\n",
    "    a = int(input())"
   ]
  },
  {
   "cell_type": "markdown",
   "id": "7dd2b0e0",
   "metadata": {},
   "source": [
    "**Задача 1** (решим 2-умя способами)"
   ]
  },
  {
   "cell_type": "markdown",
   "id": "b6b59995",
   "metadata": {},
   "source": [
    "Пользователь вводит числа, считывается их сумма. Последовательность заканчивается 0. После 0 цикл перестает работать и нужно выввести сумму получившихся чисел"
   ]
  },
  {
   "cell_type": "code",
   "execution_count": 2,
   "id": "dbb44e1e",
   "metadata": {
    "scrolled": true
   },
   "outputs": [
    {
     "name": "stdout",
     "output_type": "stream",
     "text": [
      "5\n",
      "6\n",
      "7\n",
      "9\n",
      "0\n",
      "27\n"
     ]
    }
   ],
   "source": [
    "a = int(input())\n",
    "s = 0\n",
    "while a!=0:\n",
    "    s += a\n",
    "    a = int(input())\n",
    "print(s)"
   ]
  },
  {
   "cell_type": "code",
   "execution_count": 23,
   "id": "0adab640",
   "metadata": {},
   "outputs": [
    {
     "name": "stdout",
     "output_type": "stream",
     "text": [
      "5\n",
      "4\n",
      "6\n",
      "7\n",
      "8\n",
      "0\n",
      "30\n"
     ]
    }
   ],
   "source": []
  },
  {
   "cell_type": "markdown",
   "id": "3f1b0dc2",
   "metadata": {},
   "source": [
    "**Задача 2**\n",
    "\n",
    "Напишите программу, которая запрашивает у пользователя ввод числа до тех пор, пока он не введет число 10.\n",
    "\n",
    "Если введено любое число, кроме 10, программа выводит следующую строку: \"Ошибка. Введите число 10\". Как только введено число 10, программа выводит строку \"Все работает!\" и цикл перестает работать"
   ]
  },
  {
   "cell_type": "code",
   "execution_count": 21,
   "id": "f67ae523",
   "metadata": {},
   "outputs": [
    {
     "name": "stdout",
     "output_type": "stream",
     "text": [
      "11\n",
      "Ошибка. Введите число 10\n",
      "12\n",
      "Ошибка. Введите число 10\n",
      "10\n",
      "Все работает!\n"
     ]
    }
   ],
   "source": []
  },
  {
   "cell_type": "markdown",
   "id": "42a9bc86",
   "metadata": {},
   "source": [
    "**Задача 3**\n",
    "\n",
    "While с условием. Поочередно вводятся целые числа, не превышающие по значению 100. Для каждого из них нужно вывести результат от целочисленного деления на 2. Если вводится число больше 100, цикл прекращает работу."
   ]
  },
  {
   "cell_type": "code",
   "execution_count": 6,
   "id": "e18e8625",
   "metadata": {},
   "outputs": [
    {
     "name": "stdout",
     "output_type": "stream",
     "text": [
      "30\n",
      "15\n",
      "24\n",
      "12\n",
      "23\n",
      "11\n",
      "0\n",
      "0\n",
      "101\n"
     ]
    }
   ],
   "source": [
    "a = int(input())\n",
    "while a <= 100:\n",
    "    print(a//2)\n",
    "    a = int(input())"
   ]
  },
  {
   "cell_type": "markdown",
   "id": "9f0180bb",
   "metadata": {},
   "source": [
    "While с условием. Вводятся числа, нужно вывести их остаток от деления на 3. Если вводится число меньше 10, цикл перестает работать. "
   ]
  },
  {
   "cell_type": "code",
   "execution_count": 7,
   "id": "26787e19",
   "metadata": {},
   "outputs": [
    {
     "name": "stdout",
     "output_type": "stream",
     "text": [
      "12\n",
      "0\n",
      "13\n",
      "1\n",
      "39\n",
      "0\n",
      "2\n"
     ]
    }
   ],
   "source": [
    "a = int(input())\n",
    "while a > 10:\n",
    "    print(a%3)\n",
    "    a = int(input())"
   ]
  },
  {
   "cell_type": "markdown",
   "id": "4052d32c",
   "metadata": {},
   "source": [
    "**Задача 4**\n",
    "Вводится целое положительное число N1, затем с новой строки вводится целое положительное число N2. Гарантируется, что N2 больше N1. Нужно вывести квадраты всех четных чисел от N1 до N2 включительно, каждое число на новой строке."
   ]
  },
  {
   "cell_type": "code",
   "execution_count": 12,
   "id": "33913fa1",
   "metadata": {},
   "outputs": [
    {
     "name": "stdout",
     "output_type": "stream",
     "text": [
      "4\n",
      "7\n",
      "16\n",
      "36\n"
     ]
    }
   ],
   "source": []
  },
  {
   "cell_type": "code",
   "execution_count": null,
   "id": "ffcacb42",
   "metadata": {},
   "outputs": [],
   "source": [
    "n1 = 8\n",
    "n2 = 14\n",
    "8 10 12 14"
   ]
  },
  {
   "cell_type": "markdown",
   "id": "5209d7fb",
   "metadata": {},
   "source": [
    "**Задача 5**"
   ]
  },
  {
   "cell_type": "markdown",
   "id": "2ab6caf4",
   "metadata": {},
   "source": [
    "поочередно вводятся слова, пока не введется слово \"КОНЕЦ\". Нужно вывести только те слова, которые начинаются на букву б"
   ]
  },
  {
   "cell_type": "code",
   "execution_count": 4,
   "id": "393cd83b",
   "metadata": {},
   "outputs": [
    {
     "name": "stdout",
     "output_type": "stream",
     "text": [
      "бабочка\n",
      "бабочка\n",
      "бабушка\n",
      "бабушка\n",
      "котик\n",
      "бордюр\n",
      "бордюр\n",
      "дом\n",
      "КОНЕЦ\n"
     ]
    }
   ],
   "source": [
    "word = input()\n",
    "while word !='КОНЕЦ':\n",
    "    if word[0] == 'б':\n",
    "        print(word)\n",
    "    word = input()"
   ]
  },
  {
   "cell_type": "markdown",
   "id": "bf16f393",
   "metadata": {},
   "source": [
    "**Задача 6 ДЗ СО ЗВЕЗДОЧКОЙ** \n",
    "\n",
    "Напишите программу, которая принимает на вход слова и завершает свою работу при вводе слова из 4-х букв"
   ]
  },
  {
   "cell_type": "code",
   "execution_count": null,
   "id": "9fc4d0c7",
   "metadata": {},
   "outputs": [],
   "source": []
  },
  {
   "cell_type": "code",
   "execution_count": 10,
   "id": "c2e4cc88",
   "metadata": {},
   "outputs": [
    {
     "name": "stdout",
     "output_type": "stream",
     "text": [
      "10\n",
      "10\n",
      "20\n"
     ]
    }
   ],
   "source": [
    "slytherin_score = 45\n",
    "gryffindor_score = 30\n",
    "s=0\n",
    "while slytherin_score>=gryffindor_score:\n",
    "    a=int(input())\n",
    "    gryffindor_score+=a\n",
    "    s+=a\n",
    "print(s) "
   ]
  },
  {
   "cell_type": "markdown",
   "id": "647047a2",
   "metadata": {},
   "source": [
    "**Задача 7**. Вводится последовательность чисел пока не введется ноль. Нам нужно вывести квадраты только четных чисел. "
   ]
  },
  {
   "cell_type": "code",
   "execution_count": 5,
   "id": "85a482ac",
   "metadata": {},
   "outputs": [
    {
     "name": "stdout",
     "output_type": "stream",
     "text": [
      "4\n",
      "16\n",
      "5\n",
      "12\n",
      "144\n",
      "0\n"
     ]
    }
   ],
   "source": [
    "a = int(input())\n",
    "while a!=0:\n",
    "    if a % 2 == 0:\n",
    "        print(a**2)\n",
    "    a = int(input())"
   ]
  }
 ],
 "metadata": {
  "kernelspec": {
   "display_name": "Python 3 (ipykernel)",
   "language": "python",
   "name": "python3"
  },
  "language_info": {
   "codemirror_mode": {
    "name": "ipython",
    "version": 3
   },
   "file_extension": ".py",
   "mimetype": "text/x-python",
   "name": "python",
   "nbconvert_exporter": "python",
   "pygments_lexer": "ipython3",
   "version": "3.9.7"
  }
 },
 "nbformat": 4,
 "nbformat_minor": 5
}
