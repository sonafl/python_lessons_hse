{
 "cells": [
  {
   "cell_type": "markdown",
   "id": "64eb9e77",
   "metadata": {},
   "source": [
    "1 задание: дан тип данных и с ним проводятся разные действия + применяются функции, нужно выбрать, какой тип данных в итоге остался в данных."
   ]
  },
  {
   "cell_type": "code",
   "execution_count": 34,
   "id": "aa07230f",
   "metadata": {},
   "outputs": [],
   "source": [
    "my_variable = [2, 'five', 8]\n",
    "my_variable.append('ten')\n",
    "new_variable = my_variable[0]"
   ]
  },
  {
   "cell_type": "code",
   "execution_count": 35,
   "id": "80292114",
   "metadata": {},
   "outputs": [
    {
     "data": {
      "text/plain": [
       "int"
      ]
     },
     "execution_count": 35,
     "metadata": {},
     "output_type": "execute_result"
    }
   ],
   "source": [
    "type(new_variable)"
   ]
  },
  {
   "cell_type": "markdown",
   "id": "b510ba67",
   "metadata": {},
   "source": [
    "2 задание: использовать корректную связочку в условии"
   ]
  },
  {
   "cell_type": "markdown",
   "id": "4d25c8f9",
   "metadata": {},
   "source": [
    "3 задание: найти ошибку в коде, смысловую(условие неверное) или синтаксическую (пропущен отступ)"
   ]
  },
  {
   "cell_type": "markdown",
   "id": "236d7e55",
   "metadata": {},
   "source": [
    "4 задание: работа с индексацией и срезами в списке. нужно найти строку, которую преобразовали в список и сделали срез. ПОМНИМ! Если в сплите пробел, то и в строке он должен быть. "
   ]
  },
  {
   "cell_type": "code",
   "execution_count": 67,
   "id": "729f115b",
   "metadata": {},
   "outputs": [
    {
     "name": "stdout",
     "output_type": "stream",
     "text": [
      "[]\n"
     ]
    }
   ],
   "source": [
    "our_list = 'apple,cat,dog,parrot,bee'.split()[1::2]\n",
    "print(our_list)"
   ]
  },
  {
   "cell_type": "markdown",
   "id": "6495b706",
   "metadata": {},
   "source": [
    "5 задание: составить код. "
   ]
  },
  {
   "cell_type": "markdown",
   "id": "eef32975",
   "metadata": {},
   "source": [
    "6 задание: работа с циклом фор - словари, выбрать правильные данные. "
   ]
  },
  {
   "cell_type": "markdown",
   "id": "65fbd7d9",
   "metadata": {},
   "source": [
    "7 задание: дана программа и нужно понять, что она делает"
   ]
  },
  {
   "cell_type": "markdown",
   "id": "8fc377ab",
   "metadata": {},
   "source": [
    "8 задание: найти ошибку в коде с функциями (смысловую и синтаксическую)"
   ]
  },
  {
   "cell_type": "markdown",
   "id": "3650f8a4",
   "metadata": {},
   "source": [
    "**Пару моментов с теорией базового уровня:**"
   ]
  },
  {
   "cell_type": "markdown",
   "id": "e109784e",
   "metadata": {},
   "source": [
    "1. setdefault() и get()"
   ]
  },
  {
   "cell_type": "markdown",
   "id": "840d3676",
   "metadata": {},
   "source": [
    "Этот метод возвращает значение определенного ключа в словаре, например:"
   ]
  },
  {
   "cell_type": "code",
   "execution_count": 45,
   "id": "c31de98b",
   "metadata": {
    "scrolled": true
   },
   "outputs": [
    {
     "data": {
      "text/plain": [
       "1"
      ]
     },
     "execution_count": 45,
     "metadata": {},
     "output_type": "execute_result"
    }
   ],
   "source": [
    "a = {'мама': 1, 'папа':2}\n",
    "a.setdefault('мама')"
   ]
  },
  {
   "cell_type": "markdown",
   "id": "c91b067c",
   "metadata": {},
   "source": [
    "В скобках можно написать после запятой еще одно значение. Это так называемый default. Если ключа, который мы пропишем в методе в словаре не будет, тогда в словаре появится этот ключ со значением default. "
   ]
  },
  {
   "cell_type": "code",
   "execution_count": 38,
   "id": "6c870e53",
   "metadata": {},
   "outputs": [
    {
     "data": {
      "text/plain": [
       "3"
      ]
     },
     "execution_count": 38,
     "metadata": {},
     "output_type": "execute_result"
    }
   ],
   "source": [
    "a.setdefault('сестра', 3)"
   ]
  },
  {
   "cell_type": "code",
   "execution_count": 39,
   "id": "fba486ba",
   "metadata": {},
   "outputs": [
    {
     "data": {
      "text/plain": [
       "{'мама': 1, 'папа': 2, 'сестра': 3}"
      ]
     },
     "execution_count": 39,
     "metadata": {},
     "output_type": "execute_result"
    }
   ],
   "source": [
    "a"
   ]
  },
  {
   "cell_type": "markdown",
   "id": "52fac1a8",
   "metadata": {},
   "source": [
    "Если же мы напишем default рядом с ключом, который существует, ничего не изменится. "
   ]
  },
  {
   "cell_type": "code",
   "execution_count": 40,
   "id": "04af4e58",
   "metadata": {},
   "outputs": [
    {
     "data": {
      "text/plain": [
       "3"
      ]
     },
     "execution_count": 40,
     "metadata": {},
     "output_type": "execute_result"
    }
   ],
   "source": [
    "a.setdefault('сестра', 4)"
   ]
  },
  {
   "cell_type": "code",
   "execution_count": 41,
   "id": "a0893c5f",
   "metadata": {},
   "outputs": [
    {
     "data": {
      "text/plain": [
       "{'мама': 1, 'папа': 2, 'сестра': 3}"
      ]
     },
     "execution_count": 41,
     "metadata": {},
     "output_type": "execute_result"
    }
   ],
   "source": [
    "a"
   ]
  },
  {
   "cell_type": "markdown",
   "id": "2008ff08",
   "metadata": {},
   "source": [
    "Примерно как setdefault работает и get()"
   ]
  },
  {
   "cell_type": "code",
   "execution_count": 42,
   "id": "610065e7",
   "metadata": {},
   "outputs": [
    {
     "data": {
      "text/plain": [
       "1"
      ]
     },
     "execution_count": 42,
     "metadata": {},
     "output_type": "execute_result"
    }
   ],
   "source": [
    "a.get('мама')"
   ]
  },
  {
   "cell_type": "code",
   "execution_count": 43,
   "id": "63461c7b",
   "metadata": {},
   "outputs": [
    {
     "data": {
      "text/plain": [
       "1"
      ]
     },
     "execution_count": 43,
     "metadata": {},
     "output_type": "execute_result"
    }
   ],
   "source": [
    "a.get('мама', 2)"
   ]
  },
  {
   "cell_type": "code",
   "execution_count": 23,
   "id": "a59618a7",
   "metadata": {},
   "outputs": [
    {
     "data": {
      "text/plain": [
       "1"
      ]
     },
     "execution_count": 23,
     "metadata": {},
     "output_type": "execute_result"
    }
   ],
   "source": [
    "a.get('брат', 1)"
   ]
  },
  {
   "cell_type": "markdown",
   "id": "c503a1ab",
   "metadata": {},
   "source": [
    "Но оно не меняет ничего в словаре!!!!! Не добавляет новых ключей. Просто выводит, чтобы не вызвать ошибку. "
   ]
  },
  {
   "cell_type": "markdown",
   "id": "f545c602",
   "metadata": {},
   "source": [
    "Пример: задание теста 6"
   ]
  },
  {
   "cell_type": "markdown",
   "id": "61943f9a",
   "metadata": {},
   "source": [
    "2. Сортировка по key= lambda"
   ]
  },
  {
   "cell_type": "markdown",
   "id": "1abdab07",
   "metadata": {},
   "source": [
    "Мы можем говорить, как именно сортировать совокупности данных. Например, у нас есть список кортежей. Мы хотим отсортировать список по 2 числу в кортеже"
   ]
  },
  {
   "cell_type": "code",
   "execution_count": 68,
   "id": "fa71cc0e",
   "metadata": {},
   "outputs": [
    {
     "data": {
      "text/plain": [
       "[(5, 1, 3), (1, 2, 3), (3, 4, 5)]"
      ]
     },
     "execution_count": 68,
     "metadata": {},
     "output_type": "execute_result"
    }
   ],
   "source": [
    "a = [(1,2,3),(3,4,5), (5,1,3)]\n",
    "sorted(a, key= lambda x: x[1])"
   ]
  },
  {
   "cell_type": "markdown",
   "id": "b2882edc",
   "metadata": {},
   "source": [
    "ВАЖНО! Для задач со словарем, где сказано: отсортируйте по значениям словаря, мы можем использовать следующую схему. "
   ]
  },
  {
   "cell_type": "code",
   "execution_count": 7,
   "id": "30374483",
   "metadata": {},
   "outputs": [
    {
     "data": {
      "text/plain": [
       "{'сестра': 3, 'папа': 2, 'мама': 1}"
      ]
     },
     "execution_count": 7,
     "metadata": {},
     "output_type": "execute_result"
    }
   ],
   "source": [
    "b = {'мама': 1, 'папа': 2, 'сестра': 3}\n",
    "b = dict(sorted(b.items(), reverse = True, key=lambda item: item[1]))\n",
    "b"
   ]
  },
  {
   "cell_type": "code",
   "execution_count": 2,
   "id": "d23544ee",
   "metadata": {},
   "outputs": [
    {
     "data": {
      "text/plain": [
       "dict_items([('сестра', 3), ('папа', 2), ('мама', 1)])"
      ]
     },
     "execution_count": 2,
     "metadata": {},
     "output_type": "execute_result"
    }
   ],
   "source": [
    "b.items()"
   ]
  },
  {
   "cell_type": "code",
   "execution_count": 58,
   "id": "be1966e7",
   "metadata": {},
   "outputs": [
    {
     "data": {
      "text/plain": [
       "dict_items([('мама', 1), ('папа', 2), ('сестра', 3)])"
      ]
     },
     "execution_count": 58,
     "metadata": {},
     "output_type": "execute_result"
    }
   ],
   "source": [
    "b.items()"
   ]
  },
  {
   "cell_type": "code",
   "execution_count": 62,
   "id": "e3736e39",
   "metadata": {},
   "outputs": [
    {
     "data": {
      "text/plain": [
       "{'сестра': [1, 5, 6], 'папа': [1, 3, 4], 'мама': [1, 2, 3]}"
      ]
     },
     "execution_count": 62,
     "metadata": {},
     "output_type": "execute_result"
    }
   ],
   "source": [
    "b = {'мама': [1,2,3], 'папа': [1,3,4], 'сестра': [1,5,6]}\n",
    "b = dict(sorted(b.items(), reverse = True, key=lambda item: item[1][1]))\n",
    "b"
   ]
  },
  {
   "cell_type": "code",
   "execution_count": 63,
   "id": "9a1c322b",
   "metadata": {},
   "outputs": [
    {
     "data": {
      "text/plain": [
       "dict_items([('сестра', [1, 5, 6]), ('папа', [1, 3, 4]), ('мама', [1, 2, 3])])"
      ]
     },
     "execution_count": 63,
     "metadata": {},
     "output_type": "execute_result"
    }
   ],
   "source": [
    "b.items()"
   ]
  },
  {
   "cell_type": "markdown",
   "id": "6562385b",
   "metadata": {},
   "source": [
    "Задание a5 (демо 2021)"
   ]
  },
  {
   "cell_type": "code",
   "execution_count": 32,
   "id": "90d9c1f7",
   "metadata": {},
   "outputs": [
    {
     "ename": "TypeError",
     "evalue": "'int' object is not subscriptable",
     "output_type": "error",
     "traceback": [
      "\u001b[0;31m---------------------------------------------------------------------------\u001b[0m",
      "\u001b[0;31mTypeError\u001b[0m                                 Traceback (most recent call last)",
      "\u001b[0;32m/var/folders/yk/y4brywlj7hggth8sp2wv0fmc0000gn/T/ipykernel_34250/4041349825.py\u001b[0m in \u001b[0;36m<module>\u001b[0;34m\u001b[0m\n\u001b[0;32m----> 1\u001b[0;31m \u001b[0;34m[\u001b[0m\u001b[0;34m(\u001b[0m\u001b[0;36m9\u001b[0m\u001b[0;34m,\u001b[0m \u001b[0;36m7.8\u001b[0m\u001b[0;34m)\u001b[0m\u001b[0;34m,\u001b[0m \u001b[0;34m(\u001b[0m\u001b[0;36m9\u001b[0m\u001b[0;34m,\u001b[0m \u001b[0;36m9\u001b[0m\u001b[0;34m,\u001b[0m \u001b[0;36m9\u001b[0m\u001b[0;34m)\u001b[0m\u001b[0;34m,\u001b[0m \u001b[0;34m(\u001b[0m\u001b[0;36m9\u001b[0m\u001b[0;34m)\u001b[0m\u001b[0;34m]\u001b[0m\u001b[0;34m[\u001b[0m\u001b[0;34m-\u001b[0m\u001b[0;36m1\u001b[0m\u001b[0;34m]\u001b[0m\u001b[0;34m[\u001b[0m\u001b[0;34m-\u001b[0m\u001b[0;36m1\u001b[0m\u001b[0;34m]\u001b[0m\u001b[0;34m\u001b[0m\u001b[0;34m\u001b[0m\u001b[0m\n\u001b[0m",
      "\u001b[0;31mTypeError\u001b[0m: 'int' object is not subscriptable"
     ]
    }
   ],
   "source": [
    "[(9, 7.8), (9, 9, 9), (9)][-1][-1]"
   ]
  },
  {
   "cell_type": "code",
   "execution_count": 33,
   "id": "a7c52f22",
   "metadata": {},
   "outputs": [
    {
     "data": {
      "text/plain": [
       "int"
      ]
     },
     "execution_count": 33,
     "metadata": {},
     "output_type": "execute_result"
    }
   ],
   "source": [
    "a = (9)\n",
    "type(a)"
   ]
  },
  {
   "cell_type": "code",
   "execution_count": 65,
   "id": "25b1ef99",
   "metadata": {},
   "outputs": [
    {
     "data": {
      "text/plain": [
       "True"
      ]
     },
     "execution_count": 65,
     "metadata": {},
     "output_type": "execute_result"
    }
   ],
   "source": [
    "bool('2')"
   ]
  },
  {
   "cell_type": "code",
   "execution_count": 66,
   "id": "132b4911",
   "metadata": {},
   "outputs": [
    {
     "data": {
      "text/plain": [
       "0"
      ]
     },
     "execution_count": 66,
     "metadata": {},
     "output_type": "execute_result"
    }
   ],
   "source": [
    "True//2"
   ]
  },
  {
   "cell_type": "code",
   "execution_count": null,
   "id": "b9c385f1",
   "metadata": {},
   "outputs": [],
   "source": []
  }
 ],
 "metadata": {
  "kernelspec": {
   "display_name": "Python 3 (ipykernel)",
   "language": "python",
   "name": "python3"
  },
  "language_info": {
   "codemirror_mode": {
    "name": "ipython",
    "version": 3
   },
   "file_extension": ".py",
   "mimetype": "text/x-python",
   "name": "python",
   "nbconvert_exporter": "python",
   "pygments_lexer": "ipython3",
   "version": "3.9.7"
  }
 },
 "nbformat": 4,
 "nbformat_minor": 5
}
